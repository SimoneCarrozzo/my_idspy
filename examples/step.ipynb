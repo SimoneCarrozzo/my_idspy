{
 "cells": [
  {
   "cell_type": "markdown",
   "id": "13d94320946e2cc2",
   "metadata": {},
   "source": [
    "# Step Examples\n",
    "\n",
    "This notebook demonstrates the `Step` API with decorator-based configuration and pure run methods. Steps separate business logic from state management for better testability and composability.\n",
    "\n",
    "## Features Demonstrated\n",
    "\n",
    "- **Basic Steps**: Decorator-based input/output declarations with `@Step.requires` and `@Step.provides`\n",
    "- **Validation**: Automatic validation of required outputs and type safety\n",
    "- **Conditional Steps**: Steps that execute only when specific conditions are met\n",
    "- **Data-Driven Logic**: Decision making based on actual data characteristics\n",
    "- **Fit-Aware Steps**: Two-phase ML workflow with separate fitting and execution phases\n",
    "- **Error Handling**: Proper exception handling for unfitted steps and missing outputs\n",
    "- **Scoped Step**: Allows you to initialize a step with a restricted view of the state\n",
    "- **Repeat Decorator**: Repeatable execution with `@Step.repeat` supporting count and early stopping predicates\n",
    "- **Contextual Steps**: Steps that execute within a context manager for resource management and cleanup\n",
    "\n",
    "## Setup"
   ]
  },
  {
   "cell_type": "code",
   "execution_count": 1,
   "id": "bfa269d6",
   "metadata": {},
   "outputs": [],
   "source": [
    "import sys\n",
    "import os\n",
    "\n",
    "# Add the project root to Python path\n",
    "project_root = os.path.abspath(os.path.join(os.getcwd(), '..'))\n",
    "if project_root not in sys.path:\n",
    "    sys.path.insert(0, project_root)"
   ]
  },
  {
   "cell_type": "code",
   "execution_count": 2,
   "id": "e923a77c7a7cbd03",
   "metadata": {
    "ExecuteTime": {
     "end_time": "2025-09-03T15:14:02.721163Z",
     "start_time": "2025-09-03T15:14:02.714467Z"
    }
   },
   "outputs": [],
   "source": [
    "from src.idspy.core.state import State\n",
    "from src.idspy.core.step import Step, ConditionalStep, FitAwareStep"
   ]
  },
  {
   "cell_type": "code",
   "execution_count": 3,
   "id": "1fd7e88e",
   "metadata": {},
   "outputs": [],
   "source": [
    "# Ricarica il modulo per ottenere la versione aggiornata con il decoratore @Step.repeat\n",
    "import importlib\n",
    "import src.idspy.core.step\n",
    "importlib.reload(src.idspy.core.step)\n",
    "\n",
    "from src.idspy.core.state import State\n",
    "from src.idspy.core.step import Step, ConditionalStep, FitAwareStep"
   ]
  },
  {
   "cell_type": "markdown",
   "id": "8e997a680d41034d",
   "metadata": {},
   "source": [
    "## Basic Step with Decorators\n",
    "\n",
    "Decorator-based input/output declarations. Pure `run` methods with automatic validation."
   ]
  },
  {
   "cell_type": "code",
   "execution_count": 4,
   "id": "b2516edafb12e0b9",
   "metadata": {
    "ExecuteTime": {
     "end_time": "2025-09-03T15:14:02.729879Z",
     "start_time": "2025-09-03T15:14:02.725429Z"
    }
   },
   "outputs": [
    {
     "data": {
      "text/plain": [
       "State(keys_and_types=[('data', 'list'), ('sum', 'int')])"
      ]
     },
     "execution_count": 4,
     "metadata": {},
     "output_type": "execute_result"
    }
   ],
   "source": [
    "class MakeSum(Step):\n",
    "    @Step.requires(data=list)\n",
    "    @Step.provides(sum=int)\n",
    "    def run(self, state: State, data=None):\n",
    "        return {\"sum\": sum(data)}\n",
    "\n",
    "s = State({\"data\": [1, 2, 3]})\n",
    "MakeSum()(s)\n",
    "s"
   ]
  },
  {
   "cell_type": "markdown",
   "id": "f3fda5f84cf4b7aa",
   "metadata": {},
   "source": [
    "### Validation: Missing Required Outputs\n",
    "\n",
    "Automatic validation ensures steps produce all declared outputs."
   ]
  },
  {
   "cell_type": "code",
   "execution_count": 5,
   "id": "ee12b7d4b48039ce",
   "metadata": {
    "ExecuteTime": {
     "end_time": "2025-09-03T15:14:02.828521Z",
     "start_time": "2025-09-03T15:14:02.825440Z"
    }
   },
   "outputs": [
    {
     "name": "stdout",
     "output_type": "stream",
     "text": [
      "\"Returned dict from step 'NoopProvides' is missing key 'x'\"\n"
     ]
    }
   ],
   "source": [
    "class NoopProvides(Step):\n",
    "    @Step.provides(x=int)\n",
    "    def run(self, state: State):\n",
    "        # forgets to return {\"x\": some_value}\n",
    "        return {}\n",
    "\n",
    "\n",
    "s = State()\n",
    "try:\n",
    "    NoopProvides()(s)\n",
    "except KeyError as e:\n",
    "    print(e)  # -> NoopProvides is missing key 'x'"
   ]
  },
  {
   "cell_type": "markdown",
   "id": "ab7d921a0958bf2c",
   "metadata": {},
   "source": [
    "## Conditional Steps\n",
    "\n",
    "Steps that execute only when conditions are met via `should_run()` method."
   ]
  },
  {
   "cell_type": "code",
   "execution_count": 6,
   "id": "8c23f2e85db0c44e",
   "metadata": {
    "ExecuteTime": {
     "end_time": "2025-09-03T15:14:02.882922Z",
     "start_time": "2025-09-03T15:14:02.874958Z"
    }
   },
   "outputs": [
    {
     "name": "stdout",
     "output_type": "stream",
     "text": [
      "[skip] MaybeNormalize because normalize flag is False\n"
     ]
    },
    {
     "data": {
      "text/plain": [
       "mappingproxy({'data': [1, 2, 3], 'normalize': False})"
      ]
     },
     "execution_count": 6,
     "metadata": {},
     "output_type": "execute_result"
    }
   ],
   "source": [
    "class MaybeNormalize(ConditionalStep):\n",
    "\n",
    "    @Step.requires(normalize=bool)\n",
    "    def should_run(self, state: State, normalize:bool) -> bool:\n",
    "        return normalize\n",
    "\n",
    "    @Step.requires(data=list)\n",
    "    @Step.provides(data=list)\n",
    "    def run(self, state: State, data: list) -> None:\n",
    "        m = sum(data) / len(data)\n",
    "        normalized = [x - m for x in data]\n",
    "        return {\"data\": normalized}\n",
    "\n",
    "    def on_skip(self, state: State) -> None:\n",
    "        print(f\"[skip] {self.name} because normalize flag is False\")\n",
    "\n",
    "\n",
    "s = State({\"data\": [1, 2, 3], \"normalize\": False})\n",
    "MaybeNormalize()(s)  # skipped → prints message\n",
    "s.read_only_view()\n",
    "# {'data': [1, 2, 3], 'normalize': False}"
   ]
  },
  {
   "cell_type": "code",
   "execution_count": 7,
   "id": "44fb9e8087ad3f1d",
   "metadata": {
    "ExecuteTime": {
     "end_time": "2025-09-03T15:14:02.897631Z",
     "start_time": "2025-09-03T15:14:02.895348Z"
    }
   },
   "outputs": [
    {
     "data": {
      "text/plain": [
       "mappingproxy({'data': [-1.0, 0.0, 1.0], 'normalize': True})"
      ]
     },
     "execution_count": 7,
     "metadata": {},
     "output_type": "execute_result"
    }
   ],
   "source": [
    "s = State({\"data\": [1, 2, 3], \"normalize\": True})\n",
    "MaybeNormalize()(s)  # runs\n",
    "s.read_only_view()\n",
    "# {'data': [-1.0, 0.0, 1.0], 'normalize': True}"
   ]
  },
  {
   "cell_type": "markdown",
   "id": "6234860e1211689e",
   "metadata": {},
   "source": [
    "### Data-Driven Conditional Steps\n",
    "\n",
    "Decision making based on actual data characteristics for dynamic pipeline behavior."
   ]
  },
  {
   "cell_type": "code",
   "execution_count": 8,
   "id": "c91cf470e4cfaf39",
   "metadata": {
    "ExecuteTime": {
     "end_time": "2025-09-03T15:14:02.920335Z",
     "start_time": "2025-09-03T15:14:02.917015Z"
    }
   },
   "outputs": [
    {
     "name": "stdout",
     "output_type": "stream",
     "text": [
      "[skip] TrainIfEnoughData because not enough data (need at least 3)\n",
      "\"Missing key 'trained'\"\n"
     ]
    },
    {
     "data": {
      "text/plain": [
       "True"
      ]
     },
     "execution_count": 8,
     "metadata": {},
     "output_type": "execute_result"
    }
   ],
   "source": [
    "class TrainIfEnoughData(ConditionalStep):\n",
    "    def __init__(self, min_len: int = 3):\n",
    "        super().__init__()\n",
    "        self.min_len = min_len\n",
    "\n",
    "    @Step.requires(data=list)\n",
    "    def should_run(self, state: State, data: list) -> bool:\n",
    "        return len(data) >= self.min_len\n",
    "\n",
    "    @Step.requires(data=list)\n",
    "    @Step.provides(trained=bool)\n",
    "    def run(self, state: State, data: list) -> None:\n",
    "        # pretend training...\n",
    "        return {\"trained\": True}\n",
    "\n",
    "    def on_skip(self, state: State) -> None:\n",
    "        print(f\"[skip] {self.name} because not enough data (need at least {self.min_len})\")\n",
    "\n",
    "\n",
    "s = State({\"data\": [1, 2]})\n",
    "TrainIfEnoughData(min_len=3)(s)  # skipped\n",
    "\n",
    "try:\n",
    "    s.get(\"trained\", None)\n",
    "except KeyError as e:\n",
    "    print(e)  # -> 'trained' not found in state\n",
    "\n",
    "s.set(\"data\", [1, 2, 3, 4], list)\n",
    "TrainIfEnoughData(min_len=3)(s)  # runs\n",
    "s.get(\"trained\", bool)\n",
    "# True"
   ]
  },
  {
   "cell_type": "markdown",
   "id": "799e892a1429b7d",
   "metadata": {},
   "source": [
    "## Fit-Aware Steps\n",
    "\n",
    "Two-phase ML workflow: `fit_impl()` for learning, `run()` for applying learned parameters."
   ]
  },
  {
   "cell_type": "code",
   "execution_count": 9,
   "id": "2f0d355fbc6a005d",
   "metadata": {
    "ExecuteTime": {
     "end_time": "2025-09-03T15:14:02.940626Z",
     "start_time": "2025-09-03T15:14:02.937902Z"
    }
   },
   "outputs": [],
   "source": [
    "class MeanCenter(FitAwareStep):\n",
    "    def __init__(self):\n",
    "        super().__init__()\n",
    "        self.mean = None\n",
    "\n",
    "    @Step.requires(data=list)\n",
    "    def fit_impl(self, state: State, data: list) -> None:\n",
    "        self.mean = sum(data) / len(data)\n",
    "\n",
    "    @Step.requires(data=list)\n",
    "    @Step.provides(data=list)\n",
    "    def run(self, state: State, data: list) -> None:\n",
    "        centered = [x - self.mean for x in data]\n",
    "        return {\"data\": centered}"
   ]
  },
  {
   "cell_type": "markdown",
   "id": "fc8bcf7d11666cb4",
   "metadata": {},
   "source": [
    "### Error Handling: Unfitted Steps\n",
    "\n",
    "Framework prevents running unfitted steps with clear error messages."
   ]
  },
  {
   "cell_type": "code",
   "execution_count": 10,
   "id": "54a73492c7a94935",
   "metadata": {
    "ExecuteTime": {
     "end_time": "2025-09-03T15:14:02.952987Z",
     "start_time": "2025-09-03T15:14:02.950915Z"
    }
   },
   "outputs": [
    {
     "name": "stdout",
     "output_type": "stream",
     "text": [
      "'MeanCenter' is not fitted.\n"
     ]
    }
   ],
   "source": [
    "s = State({\"data\": [1.0, 2.0, 3.0]})\n",
    "step = MeanCenter()\n",
    "\n",
    "try:\n",
    "    step(s)\n",
    "except RuntimeError as e:\n",
    "    print(e)  # 'MeanCenter' is not fitted."
   ]
  },
  {
   "cell_type": "markdown",
   "id": "fc084f1294c54fb4",
   "metadata": {},
   "source": [
    "### Proper Usage: Fit Then Run\n",
    "\n",
    "Fitted steps store learned parameters internally, keeping pipeline state clean."
   ]
  },
  {
   "cell_type": "code",
   "execution_count": 11,
   "id": "14b40f4de938bd82",
   "metadata": {
    "ExecuteTime": {
     "end_time": "2025-09-03T15:14:51.499848Z",
     "start_time": "2025-09-03T15:14:51.496575Z"
    }
   },
   "outputs": [
    {
     "name": "stdout",
     "output_type": "stream",
     "text": [
      "Mean computed: 2.0\n",
      "{'data': [-1.0, 0.0, 1.0]}\n"
     ]
    }
   ],
   "source": [
    "step = MeanCenter()\n",
    "s = State({\"data\": [1.0, 2.0, 3.0]})\n",
    "\n",
    "step.fit(s)  # computes and stores mean internally\n",
    "print(f\"Mean computed: {step.mean}\")  # Mean computed: 2.0\n",
    "\n",
    "step(s)  # apply centering\n",
    "print(s.read_only_view())  # {'data': [-1.0, 0.0, 1.0]}"
   ]
  },
  {
   "cell_type": "markdown",
   "id": "f0cd2155",
   "metadata": {},
   "source": [
    "## Scoped Step\n",
    "\n",
    "By scoping a step, you ensure that it only reads from and writes to the portion of the state relevant to its context, avoiding conflicts between similarly named data in different namespaces."
   ]
  },
  {
   "cell_type": "code",
   "execution_count": 12,
   "id": "3692d34b",
   "metadata": {},
   "outputs": [
    {
     "name": "stdout",
     "output_type": "stream",
     "text": [
      "{'data': [3.0, 1.0, 2.0], 'user.data': [1.0, 2.0, 3.0], 'company.data': [3.0, 1.0, 2.0]}\n",
      "{'data': [1.0, 2.0, 3.0], 'user.data': [1.0, 2.0, 3.0], 'company.data': [3.0, 1.0, 2.0]}\n"
     ]
    }
   ],
   "source": [
    "class Sort(Step):\n",
    "    @Step.requires(data=list)\n",
    "    @Step.provides(data=list)\n",
    "    def run(self, state: State, data: list) -> None:\n",
    "        return {\"data\": sorted(data)}\n",
    "\n",
    "s = State({\n",
    "    \"data\": [3.0, 1.0, 2.0],\n",
    "    \"user.data\": [3.0, 1.0, 2.0],\n",
    "    \"company.data\": [3.0, 1.0, 2.0]\n",
    "})\n",
    "\n",
    "Sort(in_scope=\"user\", out_scope=\"user\")(s)\n",
    "print(s.read_only_view())\n",
    "\n",
    "Sort()(s)\n",
    "print(s.read_only_view())"
   ]
  },
  {
   "cell_type": "markdown",
   "id": "dd515f08",
   "metadata": {},
   "source": [
    "## Repeat Decorator\n",
    "\n",
    "The `@Step.repeat` decorator allows you to repeat the execution of a `run` method multiple times, with support for early stopping conditions."
   ]
  },
  {
   "cell_type": "code",
   "execution_count": 13,
   "id": "94f5e40b",
   "metadata": {},
   "outputs": [
    {
     "name": "stdout",
     "output_type": "stream",
     "text": [
      "1 + 2 = 3\n",
      "3 + 2 = 5\n",
      "5 + 2 = 7\n"
     ]
    }
   ],
   "source": [
    "class Add(Step):\n",
    "    @Step.repeat(count=3)\n",
    "    @Step.requires(a=int, b=int)\n",
    "    @Step.provides(a=int)\n",
    "    def run(self, state: State, a: int, b: int) -> None:\n",
    "        print(f\"{a} + {b} = {a + b}\")\n",
    "        return {\"a\": a + b}\n",
    "\n",
    "\n",
    "s = State({\"a\": 1, \"b\": 2})\n",
    "Add()(s)"
   ]
  },
  {
   "cell_type": "markdown",
   "id": "f88ab047",
   "metadata": {},
   "source": [
    "### Repeat Decorator with Predicate\n",
    "\n",
    "The decorator can also stop early when a condition is satisfied."
   ]
  },
  {
   "cell_type": "code",
   "execution_count": 14,
   "id": "f0b5735f",
   "metadata": {},
   "outputs": [
    {
     "name": "stdout",
     "output_type": "stream",
     "text": [
      "1 < 10\n",
      "3 < 10\n",
      "5 < 10\n",
      "7 < 10\n",
      "9 < 10\n"
     ]
    }
   ],
   "source": [
    "class Add(Step):\n",
    "    @Step.repeat(predicate=lambda state: state.get(\"a\", int) > 10)\n",
    "    @Step.requires(a=int, b=int)\n",
    "    @Step.provides(a=int)\n",
    "    def run(self, state: State, a: int, b: int) -> None:\n",
    "        print(f\"{a} < 10\")\n",
    "        return {\"a\": a + b}\n",
    "\n",
    "\n",
    "s = State({\"a\": 1, \"b\": 2})\n",
    "Add()(s)"
   ]
  },
  {
   "cell_type": "markdown",
   "id": "b0bf9e57",
   "metadata": {},
   "source": [
    "## Contextual Steps\n",
    "\n",
    "Steps that execute within a context manager for automatic resource management and cleanup. The `ContextualStep` wraps another step and provides a context manager that is available as a `context` parameter during execution."
   ]
  },
  {
   "cell_type": "code",
   "execution_count": 15,
   "id": "a5e56153",
   "metadata": {},
   "outputs": [
    {
     "name": "stdout",
     "output_type": "stream",
     "text": [
      "Created temporary directory: /var/folders/9q/5fdsccl51c34cl9rkc28dfx40000gn/T/tmpm8_agmo_\n",
      "File written to: /var/folders/9q/5fdsccl51c34cl9rkc28dfx40000gn/T/tmpm8_agmo_/example.txt\n",
      "Cleaned up temporary directory: /var/folders/9q/5fdsccl51c34cl9rkc28dfx40000gn/T/tmpm8_agmo_\n"
     ]
    }
   ],
   "source": [
    "from src.idspy.core.step import ContextualStep\n",
    "from contextlib import contextmanager\n",
    "import tempfile\n",
    "import os\n",
    "\n",
    "class FileWriterStep(Step):\n",
    "    @Step.requires(filename=str, content=str)\n",
    "    def run(self, state: State, filename: str, content: str, context=None) -> None:\n",
    "        \"\"\"Write content to a file. Uses context if provided.\"\"\"\n",
    "        file_path = filename\n",
    "        if context and hasattr(context, 'name'):\n",
    "            # Use temporary directory if provided by context\n",
    "            file_path = os.path.join(context.name, filename)\n",
    "\n",
    "        with open(file_path, 'w') as f:\n",
    "            f.write(content)\n",
    "\n",
    "        print(f\"File written to: {file_path}\")\n",
    "        return None\n",
    "\n",
    "class TempDirContextualStep(ContextualStep):\n",
    "    \"\"\"Contextual step that provides a temporary directory.\"\"\"\n",
    "\n",
    "    @contextmanager\n",
    "    def context(self, state: State):\n",
    "        \"\"\"Create and cleanup a temporary directory.\"\"\"\n",
    "        with tempfile.TemporaryDirectory() as temp_dir:\n",
    "            print(f\"Created temporary directory: {temp_dir}\")\n",
    "            yield type('TempDir', (), {'name': temp_dir})()\n",
    "            print(f\"Cleaned up temporary directory: {temp_dir}\")\n",
    "\n",
    "# Example usage\n",
    "s = State({\n",
    "    \"filename\": \"example.txt\",\n",
    "    \"content\": \"Hello from contextual step!\"\n",
    "})\n",
    "\n",
    "# Create a contextual step that wraps our file writer\n",
    "writer_step = FileWriterStep()\n",
    "contextual_writer = TempDirContextualStep(writer_step)\n",
    "\n",
    "contextual_writer(s)"
   ]
  }
 ],
 "metadata": {
  "kernelspec": {
   "display_name": ".venv",
   "language": "python",
   "name": "python3"
  },
  "language_info": {
   "codemirror_mode": {
    "name": "ipython",
    "version": 3
   },
   "file_extension": ".py",
   "mimetype": "text/x-python",
   "name": "python",
   "nbconvert_exporter": "python",
   "pygments_lexer": "ipython3",
   "version": "3.12.3"
  }
 },
 "nbformat": 4,
 "nbformat_minor": 5
}
