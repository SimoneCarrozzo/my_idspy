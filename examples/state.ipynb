{
 "cells": [
  {
   "cell_type": "markdown",
   "id": "bfca83e1d8c24552",
   "metadata": {},
   "source": [
    "# State Management Examples\n",
    "\n",
    "This notebook demonstrates the `State` class, a typed key-value store with dynamic prefix views designed for pipeline state management. It maintains intermediate results and configuration across pipeline steps.\n",
    "\n",
    "## Features Demonstrated\n",
    "\n",
    "- **Initialization from Dictionary**: Create state with predefined data\n",
    "- **Typed Access**: Runtime type validation for stored values\n",
    "- **Read-only Access**: Immutable views of state data\n",
    "- **Prefix Views**: Access subsets using namespace prefixes with `StateView`\n",
    "- **Type Inference**: Automatic type detection from stored values\n",
    "\n",
    "## Setup"
   ]
  },
  {
   "cell_type": "code",
   "execution_count": 1,
   "id": "18592b0d",
   "metadata": {},
   "outputs": [],
   "source": [
    "import sys\n",
    "import os\n",
    "\n",
    "# Add the project root to Python path\n",
    "project_root = os.path.abspath(os.path.join(os.getcwd(), '..'))\n",
    "if project_root not in sys.path:\n",
    "    sys.path.insert(0, project_root)"
   ]
  },
  {
   "cell_type": "code",
   "execution_count": 2,
   "id": "b64dfb248ad76a33",
   "metadata": {
    "ExecuteTime": {
     "end_time": "2025-09-03T14:27:27.629618Z",
     "start_time": "2025-09-03T14:27:27.621926Z"
    }
   },
   "outputs": [
    {
     "name": "stdout",
     "output_type": "stream",
     "text": [
      "Initial state:\n",
      "{'global_seed': 42, 'debug_mode': True, 'train.lr': 0.001, 'train.epochs': 100, 'model.architecture': 'resnet', 'eval.batch_size': 16}\n"
     ]
    }
   ],
   "source": [
    "# Create state with initial data\n",
    "from src.idspy.core.state import State\n",
    "\n",
    "# Initialize with dictionary\n",
    "initial_data = {\n",
    "    \"seed\": 42,\n",
    "    \"train.lr\": 1e-3,\n",
    "    \"train.epochs\": 100,\n",
    "    \"model.type\": \"resnet18\",\n",
    "    \"debug\": True\n",
    "}\n",
    "\n",
    "state = State({\n",
    "    \"global_seed\": 42,        # No prefix - global key\n",
    "    \"debug_mode\": True,       # No prefix - global key\n",
    "    \"train.lr\": 0.001,  # \"train\" prefix\n",
    "    \"train.epochs\": 100,      # \"train\" prefix\n",
    "    \"model.architecture\": \"resnet\",  # \"model\" prefix\n",
    "    \"eval.batch_size\": 16     # \"eval\" prefix\n",
    "})\n",
    "print(\"Initial state:\")\n",
    "print(dict(state.items()))"
   ]
  },
  {
   "cell_type": "markdown",
   "id": "88114a16e1f14065",
   "metadata": {},
   "source": [
    "## Typed Access Operations\n",
    "\n",
    "Store and retrieve values with explicit type validation."
   ]
  },
  {
   "cell_type": "code",
   "execution_count": 3,
   "id": "7c0cae063a78c5ed",
   "metadata": {
    "ExecuteTime": {
     "end_time": "2025-09-03T14:27:59.717770Z",
     "start_time": "2025-09-03T14:27:59.713682Z"
    }
   },
   "outputs": [
    {
     "name": "stdout",
     "output_type": "stream",
     "text": [
      "Batch size (int): 32\n",
      "Learning rate (float): 0.003\n",
      "Model name (str): transformer\n"
     ]
    }
   ],
   "source": [
    "# Set values with type validation\n",
    "state.set(\"eval.batch_size\", 32, int)\n",
    "state.set(\"train.lr\", 0.003, float)\n",
    "state.set(\"model.architecture\", \"transformer\", str)\n",
    "\n",
    "# Get values with type assertion\n",
    "batch_size = state.get(\"eval.batch_size\", int)\n",
    "lr = state.get(\"train.lr\", float)\n",
    "model = state.get(\"model.architecture\", str)\n",
    "\n",
    "print(f\"Batch size (int): {batch_size}\")\n",
    "print(f\"Learning rate (float): {lr}\")\n",
    "print(f\"Model name (str): {model}\")"
   ]
  },
  {
   "cell_type": "markdown",
   "id": "6683ab78ed83fe2d",
   "metadata": {},
   "source": [
    "## Read-only Dictionary Views\n",
    "\n",
    "Get immutable views of the state data using `as_dict()`."
   ]
  },
  {
   "cell_type": "code",
   "execution_count": 4,
   "id": "826724a452ffa72e",
   "metadata": {
    "ExecuteTime": {
     "end_time": "2025-09-03T14:29:11.710041Z",
     "start_time": "2025-09-03T14:29:11.703569Z"
    }
   },
   "outputs": [
    {
     "name": "stdout",
     "output_type": "stream",
     "text": [
      "Read-only state data:\n",
      "{'global_seed': 42, 'debug_mode': True, 'train.lr': 0.003, 'train.epochs': 100, 'model.architecture': 'transformer', 'eval.batch_size': 32}\n",
      "\n",
      "Cannot modify read-only view: 'mappingproxy' object does not support item assignment\n"
     ]
    }
   ],
   "source": [
    "# Get read-only view of all data\n",
    "readonly_data = state.read_only_view()\n",
    "print(\"Read-only state data:\")\n",
    "print(dict(readonly_data))\n",
    "\n",
    "# Try to modify (will fail)\n",
    "try:\n",
    "    readonly_data[\"new_key\"] = \"value\"\n",
    "except TypeError as e:\n",
    "    print(f\"\\nCannot modify read-only view: {e}\")"
   ]
  },
  {
   "cell_type": "markdown",
   "id": "a5efb34bad8a302f",
   "metadata": {},
   "source": [
    "## State Views with Prefixes\n",
    "\n",
    "Create views for specific namespaces using `state.view(prefix)`. The `strict` parameter controls which keys are included."
   ]
  },
  {
   "cell_type": "code",
   "execution_count": 5,
   "id": "33b9aece53b00e6a",
   "metadata": {
    "ExecuteTime": {
     "end_time": "2025-09-03T14:29:38.836433Z",
     "start_time": "2025-09-03T14:29:38.832757Z"
    }
   },
   "outputs": [
    {
     "name": "stdout",
     "output_type": "stream",
     "text": [
      "Training parameters (strict view - only prefixed keys):\n",
      "Keys: ['lr', 'epochs']\n",
      "Items: {'lr': 0.003, 'epochs': 100}\n"
     ]
    }
   ],
   "source": [
    "# Create a strict view for 'train' prefix (default behavior)\n",
    "train_view_strict = state.view(\"train\")  # strict=True by default\n",
    "print(\"Training parameters (strict view - only prefixed keys):\")\n",
    "print(f\"Keys: {list(train_view_strict.keys())}\")\n",
    "print(f\"Items: {dict(train_view_strict.items())}\")"
   ]
  },
  {
   "cell_type": "markdown",
   "id": "0f805300",
   "metadata": {},
   "source": [
    "### Strict vs Non-Strict Comparison\n",
    "\n",
    "Demonstrate the key difference between strict and non-strict views with a practical example."
   ]
  },
  {
   "cell_type": "code",
   "execution_count": 6,
   "id": "13d0e420",
   "metadata": {},
   "outputs": [
    {
     "name": "stdout",
     "output_type": "stream",
     "text": [
      "Demo state keys: ['global_seed', 'debug_mode', 'train.lr', 'train.epochs', 'model.architecture', 'eval.batch_size']\n",
      "\n",
      "STRICT view (train prefix only):\n",
      "  Keys: ['epochs', 'lr']\n",
      "\n",
      "NON-STRICT view (train prefix + global keys):\n",
      "  Keys: ['debug_mode', 'epochs', 'global_seed', 'lr']\n",
      "\n",
      "Explanation:\n",
      "- Strict view: Only 'learning_rate' and 'epochs' (from train.* keys)\n",
      "- Non-strict view: Adds 'global_seed' and 'debug_mode' (no prefix)\n",
      "- Both exclude 'model.*' and 'eval.*' keys (different prefixes)\n"
     ]
    }
   ],
   "source": [
    "# Create a new state to clearly demonstrate strict vs non-strict behavior\n",
    "\n",
    "print(\"Demo state keys:\", list(state.keys()))\n",
    "print()\n",
    "\n",
    "# Compare strict vs non-strict views for \"train\"\n",
    "train_strict = state.view(\"train\", strict=True)\n",
    "train_mixed = state.view(\"train\", strict=False)\n",
    "\n",
    "print(\"STRICT view (train prefix only):\")\n",
    "print(f\"  Keys: {sorted(list(train_strict.keys()))}\")\n",
    "print()\n",
    "\n",
    "print(\"NON-STRICT view (train prefix + global keys):\")\n",
    "print(f\"  Keys: {sorted(list(train_mixed.keys()))}\")\n",
    "print()\n",
    "\n",
    "print(\"Explanation:\")\n",
    "print(\"- Strict view: Only 'learning_rate' and 'epochs' (from train.* keys)\")\n",
    "print(\"- Non-strict view: Adds 'global_seed' and 'debug_mode' (no prefix)\")\n",
    "print(\"- Both exclude 'model.*' and 'eval.*' keys (different prefixes)\")"
   ]
  },
  {
   "cell_type": "markdown",
   "id": "60e879ecd92e45fe",
   "metadata": {},
   "source": [
    "### Modifying Through Views\n",
    "\n",
    "Changes through views update the underlying state. Both strict and non-strict views support modifications."
   ]
  },
  {
   "cell_type": "code",
   "execution_count": 7,
   "id": "bec22adf8ab250f0",
   "metadata": {
    "ExecuteTime": {
     "end_time": "2025-09-03T14:30:57.999312Z",
     "start_time": "2025-09-03T14:30:57.992938Z"
    }
   },
   "outputs": [
    {
     "name": "stdout",
     "output_type": "stream",
     "text": [
      "After adding lr through strict view:\n",
      "Strict view keys: ['lr', 'epochs']\n",
      "Non-strict view keys: ['global_seed', 'debug_mode', 'lr', 'epochs']\n",
      "\n",
      "Training config (read-only): {'global_seed': 42, 'debug_mode': True, 'lr': 0.002, 'epochs': 100}\n"
     ]
    }
   ],
   "source": [
    "# Demonstrate modifying through different view types\n",
    "train_strict.set(\"lr\", 0.002, float)  # This adds \"train.lr\"\n",
    "\n",
    "# Check that both views see the change\n",
    "print(\"After adding lr through strict view:\")\n",
    "print(f\"Strict view keys: {list(train_strict.keys())}\")\n",
    "print(f\"Non-strict view keys: {list(train_mixed.keys())}\")\n",
    "\n",
    "# Get read-only view of train parameters\n",
    "train_readonly = train_mixed.as_dict()\n",
    "print(f\"\\nTraining config (read-only): {dict(train_readonly)}\")"
   ]
  },
  {
   "cell_type": "markdown",
   "id": "6c121895",
   "metadata": {},
   "source": [
    "Note that: In non-strict mode, when keys are equal, the view penalizes the global keys."
   ]
  },
  {
   "cell_type": "code",
   "execution_count": 8,
   "id": "36b26f27",
   "metadata": {},
   "outputs": [
    {
     "name": "stdout",
     "output_type": "stream",
     "text": [
      "0.002\n"
     ]
    }
   ],
   "source": [
    "state.set(\"lr\", 0.005, float)  # This adds \"lr\" (global key)\n",
    "print(train_mixed.get(\"lr\", float)) # Accesses scooped \"lr\" instead of global \"lr\" = 0.005"
   ]
  },
  {
   "cell_type": "markdown",
   "id": "a5f621da",
   "metadata": {},
   "source": [
    "## Type Inference and Checking\n",
    "\n",
    "The state automatically infers types from stored values."
   ]
  },
  {
   "cell_type": "code",
   "execution_count": 9,
   "id": "921cf337",
   "metadata": {},
   "outputs": [
    {
     "name": "stdout",
     "output_type": "stream",
     "text": [
      "Inferred types:\n",
      "  global_seed: int\n",
      "  debug_mode: bool\n",
      "  train.lr: float\n",
      "  train.epochs: int\n",
      "  model.architecture: str\n",
      "  eval.batch_size: int\n",
      "  lr: float\n",
      "  config.layers: list\n",
      "  config.dropout: float\n",
      "  config.use_batch_norm: bool\n",
      "\n",
      "Total keys: 10\n"
     ]
    }
   ],
   "source": [
    "# Add various types to state\n",
    "state.set(\"config.layers\", [64, 128, 256], list)\n",
    "state.set(\"config.dropout\", 0.5, float)\n",
    "state.set(\"config.use_batch_norm\", True, bool)\n",
    "\n",
    "# Check inferred types\n",
    "print(\"Inferred types:\")\n",
    "types_mapping = state.types()\n",
    "for key, typ in types_mapping.items():\n",
    "    print(f\"  {key}: {typ.__name__}\")\n",
    "\n",
    "print(f\"\\nTotal keys: {len(list(state.keys()))}\")"
   ]
  },
  {
   "cell_type": "markdown",
   "id": "fb360766",
   "metadata": {},
   "source": [
    "### Type Safety in Action\n",
    "\n",
    "Demonstrate type validation and error handling."
   ]
  },
  {
   "cell_type": "code",
   "execution_count": 10,
   "id": "22a28b58",
   "metadata": {},
   "outputs": [
    {
     "name": "stdout",
     "output_type": "stream",
     "text": [
      "Error: \"Missing key 'debug'\"\n"
     ]
    }
   ],
   "source": [
    "# Successful type-safe access\n",
    "try:\n",
    "    lr = state.get(\"train.lr\", float)\n",
    "    epochs = state.get(\"train.epochs\", int)\n",
    "    debug = state.get(\"debug\", bool)\n",
    "\n",
    "    print(\"Successful typed access:\")\n",
    "    print(f\"  Learning rate (float): {lr}\")\n",
    "    print(f\"  Epochs (int): {epochs}\")\n",
    "    print(f\"  Debug mode (bool): {debug}\")\n",
    "except (KeyError, TypeError) as e:\n",
    "    print(f\"Error: {e}\")"
   ]
  },
  {
   "cell_type": "markdown",
   "id": "506a28f3",
   "metadata": {},
   "source": [
    "### Error Handling\n",
    "\n",
    "Demonstrate type mismatches and missing key errors."
   ]
  },
  {
   "cell_type": "code",
   "execution_count": 11,
   "id": "0bcf4db6",
   "metadata": {},
   "outputs": [
    {
     "name": "stdout",
     "output_type": "stream",
     "text": [
      "TypeError: Key 'train.lr' contains float, not int\n",
      "KeyError: \"Missing key 'nonexistent_key'\"\n",
      "Set TypeError: Value for 'new_param' must be int, not str\n"
     ]
    }
   ],
   "source": [
    "# Type mismatch error\n",
    "try:\n",
    "    state.get(\"train.lr\", int)  # learning_rate is float, not int\n",
    "except TypeError as e:\n",
    "    print(f\"TypeError: {e}\")\n",
    "\n",
    "# Missing key error\n",
    "try:\n",
    "    state.get(\"nonexistent_key\", str)\n",
    "except KeyError as e:\n",
    "    print(f\"KeyError: {e}\")\n",
    "\n",
    "# Attempting to set wrong type\n",
    "try:\n",
    "    state.set(\"new_param\", \"should_be_int\", int)\n",
    "except TypeError as e:\n",
    "    print(f\"Set TypeError: {e}\")"
   ]
  }
 ],
 "metadata": {
  "kernelspec": {
   "display_name": ".venv",
   "language": "python",
   "name": "python3"
  },
  "language_info": {
   "codemirror_mode": {
    "name": "ipython",
    "version": 3
   },
   "file_extension": ".py",
   "mimetype": "text/x-python",
   "name": "python",
   "nbconvert_exporter": "python",
   "pygments_lexer": "ipython3",
   "version": "3.12.3"
  }
 },
 "nbformat": 4,
 "nbformat_minor": 5
}
