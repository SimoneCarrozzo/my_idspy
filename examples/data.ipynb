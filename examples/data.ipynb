{
 "cells": [
  {
   "cell_type": "markdown",
   "id": "7108a1bc13314802",
   "metadata": {},
   "source": [
    "# Data Management Examples\n",
    "\n",
    "This notebook demonstrates the core data management capabilities through the `TabAccessor` extension and schema system for organized data handling.\n",
    "\n",
    "## Features Demonstrated\n",
    "\n",
    "- **Schema Definition**: Organize data structure with column roles (numerical, categorical, target)\n",
    "- **Dynamic Schema Updates**: Modify column roles dynamically for flexible data handling\n",
    "- **Role-based Data Views**: Access specific subsets based on column roles through `TabAccessor`\n",
    "- **Data Partitioning**: Create train/validation/test splits with `random_split`\n",
    "- **Partition Management**: Access and modify specific data partitions while preserving schema\n",
    "\n",
    "## Setup"
   ]
  },
  {
   "cell_type": "code",
   "execution_count": 1,
   "id": "b6d692b1",
   "metadata": {},
   "outputs": [],
   "source": [
    "import sys\n",
    "import os\n",
    "\n",
    "# Add the project root to Python path\n",
    "project_root = os.path.abspath(os.path.join(os.getcwd(), '..'))\n",
    "if project_root not in sys.path:\n",
    "    sys.path.insert(0, project_root)"
   ]
  },
  {
   "cell_type": "code",
   "execution_count": 2,
   "id": "186b6f68271517fc",
   "metadata": {
    "ExecuteTime": {
     "end_time": "2025-09-08T13:05:19.538793Z",
     "start_time": "2025-09-08T13:05:18.081296Z"
    }
   },
   "outputs": [
    {
     "data": {
      "text/html": [
       "<div>\n",
       "<style scoped>\n",
       "    .dataframe tbody tr th:only-of-type {\n",
       "        vertical-align: middle;\n",
       "    }\n",
       "\n",
       "    .dataframe tbody tr th {\n",
       "        vertical-align: top;\n",
       "    }\n",
       "\n",
       "    .dataframe thead th {\n",
       "        text-align: right;\n",
       "    }\n",
       "</style>\n",
       "<table border=\"1\" class=\"dataframe\">\n",
       "  <thead>\n",
       "    <tr style=\"text-align: right;\">\n",
       "      <th></th>\n",
       "      <th>character</th>\n",
       "      <th>coins</th>\n",
       "      <th>lives</th>\n",
       "      <th>power_up</th>\n",
       "      <th>is_enemy</th>\n",
       "    </tr>\n",
       "    <tr>\n",
       "      <th>id</th>\n",
       "      <th></th>\n",
       "      <th></th>\n",
       "      <th></th>\n",
       "      <th></th>\n",
       "      <th></th>\n",
       "    </tr>\n",
       "  </thead>\n",
       "  <tbody>\n",
       "    <tr>\n",
       "      <th>0</th>\n",
       "      <td>Mario</td>\n",
       "      <td>120</td>\n",
       "      <td>3</td>\n",
       "      <td>Mushroom</td>\n",
       "      <td>0</td>\n",
       "    </tr>\n",
       "    <tr>\n",
       "      <th>1</th>\n",
       "      <td>Luigi</td>\n",
       "      <td>95</td>\n",
       "      <td>2</td>\n",
       "      <td>Mushroom</td>\n",
       "      <td>0</td>\n",
       "    </tr>\n",
       "    <tr>\n",
       "      <th>2</th>\n",
       "      <td>Peach</td>\n",
       "      <td>30</td>\n",
       "      <td>4</td>\n",
       "      <td>Star</td>\n",
       "      <td>0</td>\n",
       "    </tr>\n",
       "    <tr>\n",
       "      <th>3</th>\n",
       "      <td>Bowser</td>\n",
       "      <td>300</td>\n",
       "      <td>10</td>\n",
       "      <td>Fire Flower</td>\n",
       "      <td>1</td>\n",
       "    </tr>\n",
       "    <tr>\n",
       "      <th>4</th>\n",
       "      <td>Yoshi</td>\n",
       "      <td>60</td>\n",
       "      <td>5</td>\n",
       "      <td>Egg</td>\n",
       "      <td>0</td>\n",
       "    </tr>\n",
       "    <tr>\n",
       "      <th>5</th>\n",
       "      <td>Toad</td>\n",
       "      <td>45</td>\n",
       "      <td>1</td>\n",
       "      <td>Mushroom</td>\n",
       "      <td>0</td>\n",
       "    </tr>\n",
       "    <tr>\n",
       "      <th>6</th>\n",
       "      <td>Donkey Kong</td>\n",
       "      <td>150</td>\n",
       "      <td>6</td>\n",
       "      <td>Banana</td>\n",
       "      <td>0</td>\n",
       "    </tr>\n",
       "    <tr>\n",
       "      <th>7</th>\n",
       "      <td>Wario</td>\n",
       "      <td>80</td>\n",
       "      <td>1</td>\n",
       "      <td>Garlic</td>\n",
       "      <td>1</td>\n",
       "    </tr>\n",
       "    <tr>\n",
       "      <th>8</th>\n",
       "      <td>Waluigi</td>\n",
       "      <td>70</td>\n",
       "      <td>2</td>\n",
       "      <td>Trickster</td>\n",
       "      <td>1</td>\n",
       "    </tr>\n",
       "    <tr>\n",
       "      <th>9</th>\n",
       "      <td>Koopa</td>\n",
       "      <td>20</td>\n",
       "      <td>1</td>\n",
       "      <td>Shell</td>\n",
       "      <td>1</td>\n",
       "    </tr>\n",
       "  </tbody>\n",
       "</table>\n",
       "</div>"
      ],
      "text/plain": [
       "      character  coins  lives     power_up  is_enemy\n",
       "id                                                  \n",
       "0         Mario    120      3     Mushroom         0\n",
       "1         Luigi     95      2     Mushroom         0\n",
       "2         Peach     30      4         Star         0\n",
       "3        Bowser    300     10  Fire Flower         1\n",
       "4         Yoshi     60      5          Egg         0\n",
       "5          Toad     45      1     Mushroom         0\n",
       "6   Donkey Kong    150      6       Banana         0\n",
       "7         Wario     80      1       Garlic         1\n",
       "8       Waluigi     70      2    Trickster         1\n",
       "9         Koopa     20      1        Shell         1"
      ]
     },
     "execution_count": 2,
     "metadata": {},
     "output_type": "execute_result"
    }
   ],
   "source": [
    "import pandas as pd\n",
    "\n",
    "from src.idspy.data.schema import ColumnRole\n",
    "from src.idspy.data.partition import random_split\n",
    "from src.idspy.data.tab_accessor import TabAccessor\n",
    "\n",
    "# --- toy dataset ---\n",
    "df = pd.DataFrame({\n",
    "    \"character\": [\n",
    "        \"Mario\", \"Luigi\", \"Peach\", \"Bowser\", \"Yoshi\",\n",
    "        \"Toad\", \"Donkey Kong\", \"Wario\", \"Waluigi\", \"Koopa\"\n",
    "    ],\n",
    "    \"coins\": [120, 95, 30, 300, 60, 45, 150, 80, 70, 20],\n",
    "    \"lives\": [3, 2, 4, 10, 5, 1, 6, 1, 2, 1],\n",
    "    \"power_up\": [\n",
    "        \"Mushroom\", \"Mushroom\", \"Star\", \"Fire Flower\", \"Egg\",\n",
    "        \"Mushroom\", \"Banana\", \"Garlic\", \"Trickster\", \"Shell\"\n",
    "    ],\n",
    "    \"is_enemy\": [0, 0, 0, 1, 0, 0, 0, 1, 1, 1]\n",
    "})\n",
    "df.index.name = \"id\"\n",
    "df"
   ]
  },
  {
   "cell_type": "code",
   "execution_count": 3,
   "id": "61d19d859c0c5341",
   "metadata": {
    "ExecuteTime": {
     "end_time": "2025-09-08T13:05:19.572441Z",
     "start_time": "2025-09-08T13:05:19.569782Z"
    }
   },
   "outputs": [
    {
     "data": {
      "text/plain": [
       "src.idspy.data.tab_accessor.TabAccessor"
      ]
     },
     "execution_count": 3,
     "metadata": {},
     "output_type": "execute_result"
    }
   ],
   "source": [
    "TabAccessor"
   ]
  },
  {
   "cell_type": "markdown",
   "id": "538ad58b359660fe",
   "metadata": {},
   "source": [
    "## Schema Definition\n",
    "\n",
    "Define column roles to organize data structure with automatic categorization."
   ]
  },
  {
   "cell_type": "code",
   "execution_count": 4,
   "id": "5d81aab5c25edb4e",
   "metadata": {
    "ExecuteTime": {
     "end_time": "2025-09-08T13:05:19.716464Z",
     "start_time": "2025-09-08T13:05:19.710208Z"
    }
   },
   "outputs": [
    {
     "name": "stdout",
     "output_type": "stream",
     "text": [
      "Features: ['coins', 'lives', 'character', 'power_up']\n",
      "Target: is_enemy\n"
     ]
    }
   ],
   "source": [
    "df = df.tab.set_schema(\n",
    "    numerical=[\"coins\", \"lives\"],\n",
    "    categorical=[\"character\", \"power_up\"],\n",
    "    target=[\"is_enemy\"],\n",
    ")\n",
    "\n",
    "print(\"Features:\", df.tab.schema.features)  # ['coins', 'lives', 'character', 'power_up']\n",
    "print(\"Target:\", df.tab.schema.target)  # ['is_enemy']"
   ]
  },
  {
   "cell_type": "markdown",
   "id": "b55d4f8165f7b10",
   "metadata": {},
   "source": [
    "### Dynamic Schema Updates\n",
    "\n",
    "Modify column roles dynamically for flexible data handling."
   ]
  },
  {
   "cell_type": "code",
   "execution_count": 5,
   "id": "ec507288fc87a581",
   "metadata": {
    "ExecuteTime": {
     "end_time": "2025-09-08T13:05:19.812605Z",
     "start_time": "2025-09-08T13:05:19.809350Z"
    }
   },
   "outputs": [
    {
     "name": "stdout",
     "output_type": "stream",
     "text": [
      "Numeric: ['coins']\n",
      "Categorical: ['character', 'power_up', 'lives']\n"
     ]
    }
   ],
   "source": [
    "df.tab.add_role(\"lives\", ColumnRole.CATEGORICAL)\n",
    "\n",
    "print(\"Numeric:\", df.tab.schema.numerical)  # ['coins']\n",
    "print(\"Categorical:\", df.tab.schema.categorical)  # ['character', 'power_up', 'lives']"
   ]
  },
  {
   "cell_type": "markdown",
   "id": "9640e8d8c9672d20",
   "metadata": {},
   "source": [
    "### Role-based Data Views\n",
    "\n",
    "Access specific data subsets based on column roles while maintaining pandas functionality."
   ]
  },
  {
   "cell_type": "code",
   "execution_count": 6,
   "id": "710627440896d740",
   "metadata": {
    "ExecuteTime": {
     "end_time": "2025-09-08T13:05:19.846200Z",
     "start_time": "2025-09-08T13:05:19.839377Z"
    }
   },
   "outputs": [
    {
     "data": {
      "text/html": [
       "<div>\n",
       "<style scoped>\n",
       "    .dataframe tbody tr th:only-of-type {\n",
       "        vertical-align: middle;\n",
       "    }\n",
       "\n",
       "    .dataframe tbody tr th {\n",
       "        vertical-align: top;\n",
       "    }\n",
       "\n",
       "    .dataframe thead th {\n",
       "        text-align: right;\n",
       "    }\n",
       "</style>\n",
       "<table border=\"1\" class=\"dataframe\">\n",
       "  <thead>\n",
       "    <tr style=\"text-align: right;\">\n",
       "      <th></th>\n",
       "      <th>coins</th>\n",
       "      <th>character</th>\n",
       "      <th>power_up</th>\n",
       "      <th>lives</th>\n",
       "    </tr>\n",
       "    <tr>\n",
       "      <th>id</th>\n",
       "      <th></th>\n",
       "      <th></th>\n",
       "      <th></th>\n",
       "      <th></th>\n",
       "    </tr>\n",
       "  </thead>\n",
       "  <tbody>\n",
       "    <tr>\n",
       "      <th>0</th>\n",
       "      <td>120</td>\n",
       "      <td>Mario</td>\n",
       "      <td>Mushroom</td>\n",
       "      <td>3</td>\n",
       "    </tr>\n",
       "    <tr>\n",
       "      <th>1</th>\n",
       "      <td>95</td>\n",
       "      <td>Luigi</td>\n",
       "      <td>Mushroom</td>\n",
       "      <td>2</td>\n",
       "    </tr>\n",
       "    <tr>\n",
       "      <th>2</th>\n",
       "      <td>30</td>\n",
       "      <td>Peach</td>\n",
       "      <td>Star</td>\n",
       "      <td>4</td>\n",
       "    </tr>\n",
       "    <tr>\n",
       "      <th>3</th>\n",
       "      <td>300</td>\n",
       "      <td>Bowser</td>\n",
       "      <td>Fire Flower</td>\n",
       "      <td>10</td>\n",
       "    </tr>\n",
       "    <tr>\n",
       "      <th>4</th>\n",
       "      <td>60</td>\n",
       "      <td>Yoshi</td>\n",
       "      <td>Egg</td>\n",
       "      <td>5</td>\n",
       "    </tr>\n",
       "    <tr>\n",
       "      <th>5</th>\n",
       "      <td>45</td>\n",
       "      <td>Toad</td>\n",
       "      <td>Mushroom</td>\n",
       "      <td>1</td>\n",
       "    </tr>\n",
       "    <tr>\n",
       "      <th>6</th>\n",
       "      <td>150</td>\n",
       "      <td>Donkey Kong</td>\n",
       "      <td>Banana</td>\n",
       "      <td>6</td>\n",
       "    </tr>\n",
       "    <tr>\n",
       "      <th>7</th>\n",
       "      <td>80</td>\n",
       "      <td>Wario</td>\n",
       "      <td>Garlic</td>\n",
       "      <td>1</td>\n",
       "    </tr>\n",
       "    <tr>\n",
       "      <th>8</th>\n",
       "      <td>70</td>\n",
       "      <td>Waluigi</td>\n",
       "      <td>Trickster</td>\n",
       "      <td>2</td>\n",
       "    </tr>\n",
       "    <tr>\n",
       "      <th>9</th>\n",
       "      <td>20</td>\n",
       "      <td>Koopa</td>\n",
       "      <td>Shell</td>\n",
       "      <td>1</td>\n",
       "    </tr>\n",
       "  </tbody>\n",
       "</table>\n",
       "</div>"
      ],
      "text/plain": [
       "    coins    character     power_up  lives\n",
       "id                                        \n",
       "0     120        Mario     Mushroom      3\n",
       "1      95        Luigi     Mushroom      2\n",
       "2      30        Peach         Star      4\n",
       "3     300       Bowser  Fire Flower     10\n",
       "4      60        Yoshi          Egg      5\n",
       "5      45         Toad     Mushroom      1\n",
       "6     150  Donkey Kong       Banana      6\n",
       "7      80        Wario       Garlic      1\n",
       "8      70      Waluigi    Trickster      2\n",
       "9      20        Koopa        Shell      1"
      ]
     },
     "metadata": {},
     "output_type": "display_data"
    },
    {
     "data": {
      "text/plain": [
       "id\n",
       "0    0\n",
       "1    0\n",
       "2    0\n",
       "3    1\n",
       "4    0\n",
       "5    0\n",
       "6    0\n",
       "7    1\n",
       "8    1\n",
       "9    1\n",
       "Name: is_enemy, dtype: int64"
      ]
     },
     "metadata": {},
     "output_type": "display_data"
    }
   ],
   "source": [
    "X = df.tab.features\n",
    "y = df.tab.target\n",
    "\n",
    "display(X, y)"
   ]
  },
  {
   "cell_type": "code",
   "execution_count": 7,
   "id": "4b67702885b37b28",
   "metadata": {
    "ExecuteTime": {
     "end_time": "2025-09-08T13:05:19.888669Z",
     "start_time": "2025-09-08T13:05:19.883264Z"
    }
   },
   "outputs": [
    {
     "data": {
      "text/html": [
       "<div>\n",
       "<style scoped>\n",
       "    .dataframe tbody tr th:only-of-type {\n",
       "        vertical-align: middle;\n",
       "    }\n",
       "\n",
       "    .dataframe tbody tr th {\n",
       "        vertical-align: top;\n",
       "    }\n",
       "\n",
       "    .dataframe thead th {\n",
       "        text-align: right;\n",
       "    }\n",
       "</style>\n",
       "<table border=\"1\" class=\"dataframe\">\n",
       "  <thead>\n",
       "    <tr style=\"text-align: right;\">\n",
       "      <th></th>\n",
       "      <th>coins</th>\n",
       "    </tr>\n",
       "    <tr>\n",
       "      <th>id</th>\n",
       "      <th></th>\n",
       "    </tr>\n",
       "  </thead>\n",
       "  <tbody>\n",
       "    <tr>\n",
       "      <th>0</th>\n",
       "      <td>122</td>\n",
       "    </tr>\n",
       "    <tr>\n",
       "      <th>1</th>\n",
       "      <td>97</td>\n",
       "    </tr>\n",
       "    <tr>\n",
       "      <th>2</th>\n",
       "      <td>32</td>\n",
       "    </tr>\n",
       "    <tr>\n",
       "      <th>3</th>\n",
       "      <td>302</td>\n",
       "    </tr>\n",
       "    <tr>\n",
       "      <th>4</th>\n",
       "      <td>62</td>\n",
       "    </tr>\n",
       "    <tr>\n",
       "      <th>5</th>\n",
       "      <td>47</td>\n",
       "    </tr>\n",
       "    <tr>\n",
       "      <th>6</th>\n",
       "      <td>152</td>\n",
       "    </tr>\n",
       "    <tr>\n",
       "      <th>7</th>\n",
       "      <td>82</td>\n",
       "    </tr>\n",
       "    <tr>\n",
       "      <th>8</th>\n",
       "      <td>72</td>\n",
       "    </tr>\n",
       "    <tr>\n",
       "      <th>9</th>\n",
       "      <td>22</td>\n",
       "    </tr>\n",
       "  </tbody>\n",
       "</table>\n",
       "</div>"
      ],
      "text/plain": [
       "    coins\n",
       "id       \n",
       "0     122\n",
       "1      97\n",
       "2      32\n",
       "3     302\n",
       "4      62\n",
       "5      47\n",
       "6     152\n",
       "7      82\n",
       "8      72\n",
       "9      22"
      ]
     },
     "execution_count": 7,
     "metadata": {},
     "output_type": "execute_result"
    }
   ],
   "source": [
    "df.tab.numerical = df.tab.numerical + 2\n",
    "df.tab.numerical"
   ]
  },
  {
   "cell_type": "code",
   "execution_count": 8,
   "id": "2591bc91416c71a4",
   "metadata": {
    "ExecuteTime": {
     "end_time": "2025-09-08T13:05:19.963091Z",
     "start_time": "2025-09-08T13:05:19.953713Z"
    }
   },
   "outputs": [
    {
     "data": {
      "text/plain": [
       "coins    int64\n",
       "dtype: object"
      ]
     },
     "execution_count": 8,
     "metadata": {},
     "output_type": "execute_result"
    }
   ],
   "source": [
    "df.tab.numerical.dtypes"
   ]
  },
  {
   "cell_type": "code",
   "execution_count": 9,
   "id": "8f07a1f0cfb4670f",
   "metadata": {
    "ExecuteTime": {
     "end_time": "2025-09-08T13:05:20.191105Z",
     "start_time": "2025-09-08T13:05:20.185875Z"
    }
   },
   "outputs": [
    {
     "data": {
      "text/plain": [
       "coins    float64\n",
       "dtype: object"
      ]
     },
     "execution_count": 9,
     "metadata": {},
     "output_type": "execute_result"
    }
   ],
   "source": [
    "df.tab.numerical = df.tab.numerical.astype(\"float64\")\n",
    "df.tab.numerical.dtypes"
   ]
  },
  {
   "cell_type": "markdown",
   "id": "7589f7ceb4af087a",
   "metadata": {},
   "source": [
    "## Data Partitioning\n",
    "\n",
    "Create train/validation/test splits and access partitions through `TabAccessor`."
   ]
  },
  {
   "cell_type": "code",
   "execution_count": 10,
   "id": "dacf140728ea30b2",
   "metadata": {
    "ExecuteTime": {
     "end_time": "2025-09-08T13:05:20.270669Z",
     "start_time": "2025-09-08T13:05:20.243363Z"
    }
   },
   "outputs": [
    {
     "name": "stdout",
     "output_type": "stream",
     "text": [
      "Train partition:\n"
     ]
    },
    {
     "data": {
      "text/html": [
       "<div>\n",
       "<style scoped>\n",
       "    .dataframe tbody tr th:only-of-type {\n",
       "        vertical-align: middle;\n",
       "    }\n",
       "\n",
       "    .dataframe tbody tr th {\n",
       "        vertical-align: top;\n",
       "    }\n",
       "\n",
       "    .dataframe thead th {\n",
       "        text-align: right;\n",
       "    }\n",
       "</style>\n",
       "<table border=\"1\" class=\"dataframe\">\n",
       "  <thead>\n",
       "    <tr style=\"text-align: right;\">\n",
       "      <th></th>\n",
       "      <th>character</th>\n",
       "      <th>coins</th>\n",
       "      <th>lives</th>\n",
       "      <th>power_up</th>\n",
       "      <th>is_enemy</th>\n",
       "    </tr>\n",
       "    <tr>\n",
       "      <th>id</th>\n",
       "      <th></th>\n",
       "      <th></th>\n",
       "      <th></th>\n",
       "      <th></th>\n",
       "      <th></th>\n",
       "    </tr>\n",
       "  </thead>\n",
       "  <tbody>\n",
       "    <tr>\n",
       "      <th>0</th>\n",
       "      <td>Mario</td>\n",
       "      <td>122.0</td>\n",
       "      <td>3</td>\n",
       "      <td>Mushroom</td>\n",
       "      <td>0</td>\n",
       "    </tr>\n",
       "    <tr>\n",
       "      <th>1</th>\n",
       "      <td>Luigi</td>\n",
       "      <td>97.0</td>\n",
       "      <td>2</td>\n",
       "      <td>Mushroom</td>\n",
       "      <td>0</td>\n",
       "    </tr>\n",
       "    <tr>\n",
       "      <th>3</th>\n",
       "      <td>Bowser</td>\n",
       "      <td>302.0</td>\n",
       "      <td>10</td>\n",
       "      <td>Fire Flower</td>\n",
       "      <td>1</td>\n",
       "    </tr>\n",
       "    <tr>\n",
       "      <th>4</th>\n",
       "      <td>Yoshi</td>\n",
       "      <td>62.0</td>\n",
       "      <td>5</td>\n",
       "      <td>Egg</td>\n",
       "      <td>0</td>\n",
       "    </tr>\n",
       "    <tr>\n",
       "      <th>6</th>\n",
       "      <td>Donkey Kong</td>\n",
       "      <td>152.0</td>\n",
       "      <td>6</td>\n",
       "      <td>Banana</td>\n",
       "      <td>0</td>\n",
       "    </tr>\n",
       "    <tr>\n",
       "      <th>7</th>\n",
       "      <td>Wario</td>\n",
       "      <td>82.0</td>\n",
       "      <td>1</td>\n",
       "      <td>Garlic</td>\n",
       "      <td>1</td>\n",
       "    </tr>\n",
       "  </tbody>\n",
       "</table>\n",
       "</div>"
      ],
      "text/plain": [
       "      character  coins  lives     power_up  is_enemy\n",
       "id                                                  \n",
       "0         Mario  122.0      3     Mushroom         0\n",
       "1         Luigi   97.0      2     Mushroom         0\n",
       "3        Bowser  302.0     10  Fire Flower         1\n",
       "4         Yoshi   62.0      5          Egg         0\n",
       "6   Donkey Kong  152.0      6       Banana         0\n",
       "7         Wario   82.0      1       Garlic         1"
      ]
     },
     "metadata": {},
     "output_type": "display_data"
    },
    {
     "name": "stdout",
     "output_type": "stream",
     "text": [
      "Valid partition:\n"
     ]
    },
    {
     "data": {
      "text/html": [
       "<div>\n",
       "<style scoped>\n",
       "    .dataframe tbody tr th:only-of-type {\n",
       "        vertical-align: middle;\n",
       "    }\n",
       "\n",
       "    .dataframe tbody tr th {\n",
       "        vertical-align: top;\n",
       "    }\n",
       "\n",
       "    .dataframe thead th {\n",
       "        text-align: right;\n",
       "    }\n",
       "</style>\n",
       "<table border=\"1\" class=\"dataframe\">\n",
       "  <thead>\n",
       "    <tr style=\"text-align: right;\">\n",
       "      <th></th>\n",
       "      <th>character</th>\n",
       "      <th>coins</th>\n",
       "      <th>lives</th>\n",
       "      <th>power_up</th>\n",
       "      <th>is_enemy</th>\n",
       "    </tr>\n",
       "    <tr>\n",
       "      <th>id</th>\n",
       "      <th></th>\n",
       "      <th></th>\n",
       "      <th></th>\n",
       "      <th></th>\n",
       "      <th></th>\n",
       "    </tr>\n",
       "  </thead>\n",
       "  <tbody>\n",
       "    <tr>\n",
       "      <th>5</th>\n",
       "      <td>Toad</td>\n",
       "      <td>47.0</td>\n",
       "      <td>1</td>\n",
       "      <td>Mushroom</td>\n",
       "      <td>0</td>\n",
       "    </tr>\n",
       "    <tr>\n",
       "      <th>8</th>\n",
       "      <td>Waluigi</td>\n",
       "      <td>72.0</td>\n",
       "      <td>2</td>\n",
       "      <td>Trickster</td>\n",
       "      <td>1</td>\n",
       "    </tr>\n",
       "  </tbody>\n",
       "</table>\n",
       "</div>"
      ],
      "text/plain": [
       "   character  coins  lives   power_up  is_enemy\n",
       "id                                             \n",
       "5       Toad   47.0      1   Mushroom         0\n",
       "8    Waluigi   72.0      2  Trickster         1"
      ]
     },
     "metadata": {},
     "output_type": "display_data"
    },
    {
     "name": "stdout",
     "output_type": "stream",
     "text": [
      "Test partition:\n"
     ]
    },
    {
     "data": {
      "text/html": [
       "<div>\n",
       "<style scoped>\n",
       "    .dataframe tbody tr th:only-of-type {\n",
       "        vertical-align: middle;\n",
       "    }\n",
       "\n",
       "    .dataframe tbody tr th {\n",
       "        vertical-align: top;\n",
       "    }\n",
       "\n",
       "    .dataframe thead th {\n",
       "        text-align: right;\n",
       "    }\n",
       "</style>\n",
       "<table border=\"1\" class=\"dataframe\">\n",
       "  <thead>\n",
       "    <tr style=\"text-align: right;\">\n",
       "      <th></th>\n",
       "      <th>character</th>\n",
       "      <th>coins</th>\n",
       "      <th>lives</th>\n",
       "      <th>power_up</th>\n",
       "      <th>is_enemy</th>\n",
       "    </tr>\n",
       "    <tr>\n",
       "      <th>id</th>\n",
       "      <th></th>\n",
       "      <th></th>\n",
       "      <th></th>\n",
       "      <th></th>\n",
       "      <th></th>\n",
       "    </tr>\n",
       "  </thead>\n",
       "  <tbody>\n",
       "    <tr>\n",
       "      <th>2</th>\n",
       "      <td>Peach</td>\n",
       "      <td>32.0</td>\n",
       "      <td>4</td>\n",
       "      <td>Star</td>\n",
       "      <td>0</td>\n",
       "    </tr>\n",
       "    <tr>\n",
       "      <th>9</th>\n",
       "      <td>Koopa</td>\n",
       "      <td>22.0</td>\n",
       "      <td>1</td>\n",
       "      <td>Shell</td>\n",
       "      <td>1</td>\n",
       "    </tr>\n",
       "  </tbody>\n",
       "</table>\n",
       "</div>"
      ],
      "text/plain": [
       "   character  coins  lives power_up  is_enemy\n",
       "id                                           \n",
       "2      Peach   32.0      4     Star         0\n",
       "9      Koopa   22.0      1    Shell         1"
      ]
     },
     "metadata": {},
     "output_type": "display_data"
    }
   ],
   "source": [
    "split_mapping = random_split(df, train_size=0.6, val_size=0.2, test_size=0.2)\n",
    "df.tab.set_partitions_from_labels(split_mapping)\n",
    "\n",
    "print(\"Train partition:\")\n",
    "display(df.tab.train)\n",
    "\n",
    "print(\"Valid partition:\")\n",
    "display(df.tab.val)\n",
    "\n",
    "print(\"Test partition:\")\n",
    "display(df.tab.test)"
   ]
  },
  {
   "cell_type": "code",
   "execution_count": 11,
   "id": "89fde56f83030070",
   "metadata": {
    "ExecuteTime": {
     "end_time": "2025-09-08T13:05:20.681712Z",
     "start_time": "2025-09-08T13:05:20.601797Z"
    }
   },
   "outputs": [
    {
     "data": {
      "text/html": [
       "<div>\n",
       "<style scoped>\n",
       "    .dataframe tbody tr th:only-of-type {\n",
       "        vertical-align: middle;\n",
       "    }\n",
       "\n",
       "    .dataframe tbody tr th {\n",
       "        vertical-align: top;\n",
       "    }\n",
       "\n",
       "    .dataframe thead th {\n",
       "        text-align: right;\n",
       "    }\n",
       "</style>\n",
       "<table border=\"1\" class=\"dataframe\">\n",
       "  <thead>\n",
       "    <tr style=\"text-align: right;\">\n",
       "      <th></th>\n",
       "      <th>coins</th>\n",
       "    </tr>\n",
       "    <tr>\n",
       "      <th>id</th>\n",
       "      <th></th>\n",
       "    </tr>\n",
       "  </thead>\n",
       "  <tbody>\n",
       "    <tr>\n",
       "      <th>0</th>\n",
       "      <td>172.0</td>\n",
       "    </tr>\n",
       "    <tr>\n",
       "      <th>1</th>\n",
       "      <td>147.0</td>\n",
       "    </tr>\n",
       "    <tr>\n",
       "      <th>3</th>\n",
       "      <td>302.0</td>\n",
       "    </tr>\n",
       "    <tr>\n",
       "      <th>4</th>\n",
       "      <td>112.0</td>\n",
       "    </tr>\n",
       "    <tr>\n",
       "      <th>6</th>\n",
       "      <td>202.0</td>\n",
       "    </tr>\n",
       "    <tr>\n",
       "      <th>7</th>\n",
       "      <td>82.0</td>\n",
       "    </tr>\n",
       "  </tbody>\n",
       "</table>\n",
       "</div>"
      ],
      "text/plain": [
       "    coins\n",
       "id       \n",
       "0   172.0\n",
       "1   147.0\n",
       "3   302.0\n",
       "4   112.0\n",
       "6   202.0\n",
       "7    82.0"
      ]
     },
     "execution_count": 11,
     "metadata": {},
     "output_type": "execute_result"
    }
   ],
   "source": [
    "df_train = df.tab.train.copy()\n",
    "df_train.loc[df_train[\"is_enemy\"] == 0, \"coins\"] += 50\n",
    "\n",
    "df.tab.train = df_train\n",
    "df.tab.train.tab.numerical"
   ]
  }
 ],
 "metadata": {
  "kernelspec": {
   "display_name": ".venv",
   "language": "python",
   "name": "python3"
  },
  "language_info": {
   "codemirror_mode": {
    "name": "ipython",
    "version": 3
   },
   "file_extension": ".py",
   "mimetype": "text/x-python",
   "name": "python",
   "nbconvert_exporter": "python",
   "pygments_lexer": "ipython3",
   "version": "3.12.3"
  }
 },
 "nbformat": 4,
 "nbformat_minor": 5
}
