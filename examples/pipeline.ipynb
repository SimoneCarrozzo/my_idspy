{
 "cells": [
  {
   "cell_type": "markdown",
   "id": "b0aafc9ceb99e5e8",
   "metadata": {},
   "source": [
    "# Pipeline Examples\n",
    "\n",
    "This notebook demonstrates how to build and customize pipelines. Pipelines orchestrate sequences of steps with built-in event handling, conditional execution, and fitting capabilities for ML workflows.\n",
    "\n",
    "## Features Demonstrated\n",
    "\n",
    "- **Basic Pipeline**: Step orchestration with automatic state management\n",
    "- **Event Hooks**: Custom methods responding to pipeline lifecycle events\n",
    "- **Priority System**: Multi-priority hook execution with configurable order\n",
    "- **Fit-Aware Pipelines**: Automatic fitting lifecycle for ML workflows\n",
    "- **Refit Control**: Preserving or updating learned parameters across runs\n",
    "\n",
    "## Setup"
   ]
  },
  {
   "cell_type": "code",
   "execution_count": 35,
   "id": "319d0a2a",
   "metadata": {},
   "outputs": [],
   "source": [
    "import sys\n",
    "import os\n",
    "\n",
    "# Add the project root to Python path\n",
    "project_root = os.path.abspath(os.path.join(os.getcwd(), '..'))\n",
    "if project_root not in sys.path:\n",
    "    sys.path.insert(0, project_root)"
   ]
  },
  {
   "cell_type": "code",
   "execution_count": 36,
   "id": "9008cdd4332453d9",
   "metadata": {
    "ExecuteTime": {
     "end_time": "2025-09-03T16:15:22.248593Z",
     "start_time": "2025-09-03T16:15:22.235873Z"
    }
   },
   "outputs": [],
   "source": [
    "from src.idspy.core.state import State\n",
    "from src.idspy.core.step import Step, FitAwareStep\n",
    "from src.idspy.core.pipeline import Pipeline, FitAwarePipeline, PipelineEvent"
   ]
  },
  {
   "cell_type": "markdown",
   "id": "7d048dd1a556d0dd",
   "metadata": {},
   "source": [
    "## Example Steps\n",
    "\n",
    "Step definitions with explicit input/output declarations for pipeline validation."
   ]
  },
  {
   "cell_type": "code",
   "execution_count": null,
   "id": "449c9925ad8d96b2",
   "metadata": {
    "ExecuteTime": {
     "end_time": "2025-09-03T16:15:22.255836Z",
     "start_time": "2025-09-03T16:15:22.251582Z"
    }
   },
   "outputs": [],
   "source": [
    "class Load(Step):\n",
    "    @Step.provides(data=list)\n",
    "    def run(self, state: State):\n",
    "        return {\"data\": [1, 2, 3]}\n",
    "\n",
    "\n",
    "\n",
    "class Sum(Step):\n",
    "    @Step.requires(data=list)\n",
    "    @Step.provides(sum=(int, float))\n",
    "    def run(self, state: State, data: list):\n",
    "        return {\"sum\": sum(data)}\n",
    "\n",
    "\n",
    "\n",
    "class MeanCenter(FitAwareStep):\n",
    "    def __init__(self):\n",
    "        super().__init__()\n",
    "        self.mean = None\n",
    "\n",
    "    @Step.requires(data=list)\n",
    "    def fit_impl(self, state: State, data: list):\n",
    "        self.mean = sum(data) / len(data)\n",
    "\n",
    "    @Step.requires(data=list)\n",
    "    @Step.provides(data=list)\n",
    "    def run(self, state: State, data: list):\n",
    "        centered = [x - self.mean for x in data]\n",
    "        return {\"data\": centered}\n",
    "\n",
    "\n",
    "\n",
    "class Accumulate(Step):\n",
<<<<<<< HEAD
    "    def __init__(self): super().__init__(requires=[\"sum\"], provides=[\"tot\"])\n",
    "\n",
    "    def run(self, state: State) -> None:\n",
    "        state[\"tot\"] = state.get(\"tot\", 0) + state[\"sum\"]\n",
    "\n",
    "#NUOVE AGGIUNTE\n",
    "class Multiply(Step):\n",
    "    def __init__(self, factor: int):\n",
    "        super().__init__(requires=[\"data\"], provides=[\"mul\"])\n",
    "        self.factor = factor\n",
    "\n",
    "    def run(self, state: State) -> None:\n",
    "        state[\"mul\"] = [x * self.factor for x in state[\"data\"]]\n",
    "\n",
    "class StandardScaler(FitAwareStep):\n",
    "    def __init__(self):\n",
    "        super().__init__(requires=[\"data\"], provides=[\"data\"])\n",
    "        self.std = 1.0\n",
    "\n",
    "    def fit_impl(self, state: State):\n",
    "        data = state[\"data\"]\n",
    "        mean = sum(data) / len(data)\n",
    "        var = sum((x - mean) ** 2 for x in data) / len(data)\n",
    "        self.std = var**0.5 if var > 0 else 1.0\n",
    "        state[\"preproc.std\"] = self.std\n",
    "\n",
    "    def run(self, state: State):\n",
    "        state[\"data\"] = [x / self.std for x in state[\"data\"]]\n",
    "\n",
    "\n",
    "class ConditionalSum(Step):\n",
    "    def __init__(self):\n",
    "        super().__init__(requires=[\"data\"], provides=[\"c_sum\"])\n",
    "\n",
    "    def run(self, state: State):\n",
    "        data = state[\"data\"]\n",
    "        state[\"c_sum\"] = sum(data) if len(data) > 2 else None\n",
    "\n",
    "class Pitagora(Step):\n",
    "    def __init__(self):\n",
    "        super().__init__(requires=[\"data\"], provides=[\"pitagora\"])\n",
    "\n",
    "    def run(self, state: State):\n",
    "        \n",
    "        if len(state[\"data\"]) < 2:\n",
    "            state[\"pitagora\"] = None\n",
    "        else:\n",
    "            list_pitagora = []\n",
    "            for i in range(len(state[\"data\"]) - 1):\n",
    "                a = state[\"data\"][i]\n",
    "                b = state[\"data\"][i + 1]\n",
    "                list_pitagora.append(int((a**2 + b**2) ** 0.5))\n",
    "            state[\"pitagora\"] = list_pitagora     \n",
    "#FINE NUOVE AGGIUNTE\n"
=======
    "    @Step.requires(sum=int, tot=int)\n",
    "    @Step.provides(tot=int)\n",
    "    def run(self, state: State, sum: int, tot: int = 0):\n",
    "        tot += sum\n",
    "        return {\"tot\": tot}"
>>>>>>> upstream/main
   ]
  },
  {
   "cell_type": "markdown",
   "id": "212b656ebe8a6654",
   "metadata": {},
   "source": [
    "## Custom Pipeline with Event Hooks\n",
    "\n",
    "Register custom methods with `@Pipeline.hook()` to respond to pipeline lifecycle events."
   ]
  },
  {
   "cell_type": "code",
   "execution_count": 58,
   "id": "7fe3f8d5f04849fc",
   "metadata": {
    "ExecuteTime": {
     "end_time": "2025-09-03T16:15:22.336616Z",
     "start_time": "2025-09-03T16:15:22.333258Z"
    }
   },
   "outputs": [
    {
     "name": "stdout",
     "output_type": "stream",
     "text": [
      "[pipeline] start\n",
      "[pipeline] before 0: Load\n",
      "[pipeline] after 0:  Load\n",
      "[pipeline] before 1: Sum\n",
      "[pipeline] after 1:  Sum\n",
      "[pipeline] end\n",
      "{'data': [1, 2, 3], 'sum': 6}\n",
      "[pipeline_1] start\n",
      "[pipeline_1] before 0: Load\n",
      "[pipeline_1] after 0:  Load\n",
      "    stato parziale: {'data': [1, 2, 3]}\n",
      "[pipeline_1] before 1: Sum\n",
      "[pipeline_1] after 1:  Sum\n",
      "    stato parziale: {'data': [1, 2, 3], 'sum': 6}\n",
      "[pipeline_1] before 2: Accumulate\n",
      "[pipeline_1] after 2:  Accumulate\n",
      "    stato parziale: {'data': [1, 2, 3], 'sum': 6, 'tot': 6}\n",
      "[pipeline_1] before 3: Multiply\n",
      "[pipeline_1] after 3:  Multiply\n",
      "    stato parziale: {'data': [1, 2, 3], 'sum': 6, 'tot': 6, 'mul': [10, 20, 30]}\n",
      "[pipeline_1] before 4: Pitagora\n",
      "[pipeline_1] after 4:  Pitagora\n",
      "    stato parziale: {'data': [1, 2, 3], 'sum': 6, 'tot': 6, 'mul': [10, 20, 30], 'pitagora': [2, 3]}\n",
      "[pipeline_1] end\n",
      "{'data': [1, 2, 3], 'sum': 6, 'tot': 6, 'mul': [10, 20, 30], 'pitagora': [2, 3]}\n"
     ]
    }
   ],
   "source": [
    "class MyPipeline(Pipeline):\n",
    "    @Pipeline.hook(PipelineEvent.PIPELINE_START)\n",
    "    def _start(self, state: State) -> None:\n",
    "        print(\"[pipeline] start\")\n",
    "\n",
    "    @Pipeline.hook(PipelineEvent.BEFORE_STEP)\n",
    "    def _before(self, step: Step, state: State, index: int) -> None:\n",
    "        print(f\"[pipeline] before {index}: {step.name}\")\n",
    "\n",
    "    @Pipeline.hook(PipelineEvent.AFTER_STEP)\n",
    "    def _after(self, step: Step, state: State, index: int) -> None:\n",
    "        print(f\"[pipeline] after {index}:  {step.name}\")\n",
<<<<<<< HEAD
    "        \n",
    "    @hook(PipelineEvent.PIPELINE_END)\n",
=======
    "\n",
    "    @Pipeline.hook(PipelineEvent.PIPELINE_END)\n",
>>>>>>> upstream/main
    "    def _end(self, state: State) -> None:\n",
    "        print(\"[pipeline] end\")\n",
    "\n",
    "\n",
    "s = State()\n",
    "p = MyPipeline([Load(), Sum()], name=\"Plain\")\n",
    "p(s)\n",
    "print(s.as_dict())\n",
    "# [pipeline] start\n",
    "# [pipeline] before 0: Load\n",
    "# [pipeline] after 0:  Load\n",
    "# [pipeline] before 1: Sum\n",
    "# [pipeline] after 1:  Sum\n",
    "# [pipeline] end\n",
    "# {'data': [1, 2, 3], 'sum': 6}\n",
    "\n",
    "#NUOVE AGGIUNTE\n",
    "class MyPipeline2(Pipeline):\n",
    "    @hook(PipelineEvent.PIPELINE_START)\n",
    "    def _start(self, state: State) -> None:\n",
    "        print(\"[pipeline_1] start\")\n",
    "\n",
    "    @hook(PipelineEvent.BEFORE_STEP, priority=-1)\n",
    "    def _before(self, step: Step, state: State, *, index: int) -> None:\n",
    "        print(f\"[pipeline_1] before {index}: {step.name}\")\n",
    "\n",
    "    @hook(PipelineEvent.AFTER_STEP)\n",
    "    def _after(self, step: Step, state: State, *, index: int) -> None:\n",
    "        print(f\"[pipeline_1] after {index}:  {step.name}\")\n",
    "        print(f\"    stato parziale: {state.to_dict()}\")\n",
    "        \n",
    "    @hook(PipelineEvent.PIPELINE_END)\n",
    "    def _end(self, state: State) -> None:\n",
    "        print(\"[pipeline_1] end\")\n",
    "        \n",
    "s1 = State()\n",
    "p1 = MyPipeline2([Load(), Sum(), Accumulate(), Multiply(factor=10), Pitagora()], name=\"MP2\")\n",
    "p1(s1)\n",
    "print(s1.to_dict())"
   ]
  },
  {
   "cell_type": "markdown",
   "id": "1880e534",
   "metadata": {},
   "source": [
    "### Multi-Priority Hook System\n",
    "\n",
    "Multiple hooks for the same event execute by priority order (higher numbers first)."
   ]
  },
  {
   "cell_type": "code",
<<<<<<< HEAD
   "execution_count": null,
=======
   "execution_count": 5,
   "id": "767f47e3",
   "metadata": {},
   "outputs": [
    {
     "name": "stdout",
     "output_type": "stream",
     "text": [
      "MEDIUM: [id: 0]\n",
      "HIGH: [id: 0]\n",
      "MEDIUM: [id: 1]\n",
      "HIGH: [id: 1]\n",
      "{'data': [1, 2, 3], 'sum': 6}\n"
     ]
    }
   ],
   "source": [
    "class MultiPriorityPipeline(Pipeline):\n",
    "    @Pipeline.hook(PipelineEvent.BEFORE_STEP, priority=100)\n",
    "    def high_priority_hook(self, step: Step, state: State, index: int):\n",
    "        print(f\"HIGH: [id: {index}]\")\n",
    "\n",
    "    @Pipeline.hook(PipelineEvent.BEFORE_STEP, priority=50)\n",
    "    def medium_priority_hook(self, step: Step, state: State, index: int):\n",
    "        print(f\"MEDIUM: [id: {index}]\")\n",
    "\n",
    "s = State()\n",
    "p = MultiPriorityPipeline([Load(), Sum()], name=\"Plain\")\n",
    "p(s)\n",
    "print(s.as_dict())\n",
    "# MEDIUM: [id: 0]\n",
    "# HIGH: [id: 0]\n",
    "# MEDIUM: [id: 1]\n",
    "# HIGH: [id: 1]\n",
    "# {'data': [1, 2, 3], 'sum': 6}"
   ]
  },
  {
   "cell_type": "markdown",
   "id": "54ea4eb9854e4692",
   "metadata": {},
   "source": [
    "## Fit-Aware Pipelines\n",
    "\n",
    "Automatic fitting lifecycle for ML workflows. Controls refit behavior across runs."
   ]
  },
  {
   "cell_type": "code",
   "execution_count": 6,
>>>>>>> upstream/main
   "id": "306540356cd87a5c",
   "metadata": {
    "ExecuteTime": {
     "end_time": "2025-09-03T16:15:22.350008Z",
     "start_time": "2025-09-03T16:15:22.347008Z"
    }
   },
<<<<<<< HEAD
   "outputs": [],
=======
   "outputs": [
    {
     "name": "stdout",
     "output_type": "stream",
     "text": [
      "After first run: {'data': [-1.0, 0.0, 1.0], 'sum': 0.0}\n",
      "Mean learned: 2.0\n",
      "Second run (no refit): {'data': [0.0, 2.0, 4.0], 'sum': 6.0}\n",
      "Mean still: 2.0\n",
      "With refit=True: {'data': [-2.0, 0.0, 2.0], 'sum': 0.0}\n",
      "New mean learned: 4.0\n"
     ]
    }
   ],
>>>>>>> upstream/main
   "source": [
    "s = State({\"data\": [1.0, 2.0, 3.0]})\n",
    "fp = FitAwarePipeline([MeanCenter(), Sum()], name=\"FitPipe\", refit=False)\n",
    "fp(s)\n",
    "print(\"After first run:\", s.as_dict())\n",
    "print(\"Mean learned:\", fp.steps[0].mean)\n",
    "# After first run: {'data': [-1.0, 0.0, 1.0], 'sum': 0}\n",
    "# Mean learned: 2.0\n",
    "\n",
    "# Second run without refit (uses same mean=2.0)\n",
    "s = State({\"data\": [2.0, 4.0, 6.0]})\n",
    "fp(s)\n",
    "print(\"Second run (no refit):\", s.as_dict())\n",
    "print(\"Mean still:\", fp.steps[0].mean)\n",
    "# Second run (no refit): {'data': [0.0, 2.0, 4.0], 'sum': 6}\n",
    "# Mean still: 2.0\n",
    "\n",
    "# Pipeline with refit=True (learns new mean=4.0)\n",
    "s2 = State({\"data\": [2.0, 4.0, 6.0]})\n",
    "fp_refit = FitAwarePipeline([MeanCenter(), Sum()], name=\"FitPipeRefit\", refit=True)\n",
    "fp_refit(s2)\n",
<<<<<<< HEAD
    "print(s2.to_dict())\n",
    "# {'data': [-2.0, 0.0, 2.0], 'preproc.mean': 4.0, 'sum': 0.0}\n",
    "\n",
    "\n",
    "\n",
    "#NUOVA AGGIUNTA\n",
    "s1 = State({\"data\": [3.0, 4.0, 5.0]})\n",
    "fp = FitAwarePipeline([MeanCenter(), StandardScaler(), Sum()], name=\"FittedPipe\", refit=True)\n",
    "fp(s1)\n",
    "print(s1.to_dict())\n",
    "# somma = 3+4+5 = 12; len = 3; ==> mean = 4.0;\n",
    "# std = sqrt(((3-4)^2 + (4-4)^2 + (5-4)^2)/3) = sqrt((1+0+1)/3) = sqrt(2/3) = 0.816496580927726\n",
    "# data normalizzato = [ (3-4)/std, (4-4)/std, (5-4)/std ] = [-1.224744871391589, 0.0, 1.224744871391589]\n",
    "# preproc.std = 0.816496580927726 \n",
    "# {'data': [-1.224744871391589, 0.0, 1.224744871391589], 'preproc.mean': 4.0, 'preproc.std':0.816  'sum': 0.0}\n",
    "\n",
    "\n",
    "#Altra nuova aggiunta\n",
    "s1[\"data\"] = [10.0, 24.0]\n",
    "fp = FitAwarePipeline([MeanCenter(), ConditionalSum(), Sum(), Multiply(factor=10)], name=\"FitPipeCond\", refit=True)\n",
    "fp(s1)\n",
    "print(s1.to_dict())\n",
    "# somma = 10+24 = 34; len = 2; ==> mean = 17.0;\n",
    "# {'data': [-7.0, 7.0], 'preproc.mean': 17.0, 'c_sum':NONE, 'sum': 0.0, 'mul'= [-70.0, 70.0]}\n",
    "\n"
   ]
  },
  {
   "cell_type": "markdown",
   "id": "66bead3f4af1543d",
   "metadata": {},
   "source": [
    "### Repeat the Pipeline `count` times"
   ]
  },
  {
   "cell_type": "code",
   "execution_count": null,
   "id": "288cec62360093ef",
   "metadata": {
    "ExecuteTime": {
     "end_time": "2025-09-03T16:15:22.370892Z",
     "start_time": "2025-09-03T16:15:22.368590Z"
    }
   },
   "outputs": [],
   "source": [
    "p = Pipeline([Load(), Sum(), Accumulate()])\n",
    "rp = Repeat(p, count=3)\n",
    "s = State()\n",
    "rp(s)\n",
    "print(s.to_dict())\n",
    "# 1° iter: data=[1,2,3], sum=6, tot=6\n",
    "# 2° iter: data=[1,2,3], sum=6, tot=12\n",
    "# 3° iter: data=[1,2,3], sum=6, tot=18\n",
    "# {'data': [1, 2, 3], 'sum': 6, 'tot': 18}"
=======
    "print(\"With refit=True:\", s2.as_dict())\n",
    "print(\"New mean learned:\", fp_refit.steps[0].mean)\n",
    "# With refit=True: {'data': [-2.0, 0.0, 2.0], 'sum': 0}\n",
    "# New mean learned: 4.0"
>>>>>>> upstream/main
   ]
  }
 ],
 "metadata": {
  "kernelspec": {
   "display_name": ".venv",
   "language": "python",
   "name": "python3"
  },
  "language_info": {
   "codemirror_mode": {
    "name": "ipython",
    "version": 3
   },
   "file_extension": ".py",
   "mimetype": "text/x-python",
   "name": "python",
   "nbconvert_exporter": "python",
   "pygments_lexer": "ipython3",
   "version": "3.11.9"
  }
 },
 "nbformat": 4,
 "nbformat_minor": 5
}
