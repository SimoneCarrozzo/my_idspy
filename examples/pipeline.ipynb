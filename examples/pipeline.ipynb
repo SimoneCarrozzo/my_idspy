{
 "cells": [
  {
   "cell_type": "markdown",
   "id": "b0aafc9ceb99e5e8",
   "metadata": {},
   "source": [
    "### Setup"
   ]
  },
  {
   "cell_type": "code",
   "execution_count": 35,
   "id": "319d0a2a",
   "metadata": {},
   "outputs": [],
   "source": [
    "import sys\n",
    "import os\n",
    "\n",
    "# Add the project root to Python path\n",
    "project_root = os.path.abspath(os.path.join(os.getcwd(), '..'))\n",
    "if project_root not in sys.path:\n",
    "    sys.path.insert(0, project_root)"
   ]
  },
  {
   "cell_type": "code",
   "execution_count": 36,
   "id": "9008cdd4332453d9",
   "metadata": {
    "ExecuteTime": {
     "end_time": "2025-09-03T16:15:22.248593Z",
     "start_time": "2025-09-03T16:15:22.235873Z"
    }
   },
   "outputs": [],
   "source": [
    "from src.idspy.core.pipeline import Pipeline, PipelineEvent, hook, FitAwarePipeline\n",
    "from src.idspy.core.state import State\n",
    "from src.idspy.core.step import Step, FitAwareStep, Repeat"
   ]
  },
  {
   "cell_type": "markdown",
   "id": "7d048dd1a556d0dd",
   "metadata": {},
   "source": [
    "### Example `Steps`"
   ]
  },
  {
   "cell_type": "code",
   "execution_count": null,
   "id": "449c9925ad8d96b2",
   "metadata": {
    "ExecuteTime": {
     "end_time": "2025-09-03T16:15:22.255836Z",
     "start_time": "2025-09-03T16:15:22.251582Z"
    }
   },
   "outputs": [],
   "source": [
    "class Load(Step):\n",
    "    def __init__(self): super().__init__(provides=[\"data\"])\n",
    "\n",
    "    def run(self, state: State) -> None:\n",
    "        state[\"data\"] = [1, 2, 3]\n",
    "\n",
    "\n",
    "class Sum(Step):\n",
    "    def __init__(self): super().__init__(requires=[\"data\"], provides=[\"sum\"])\n",
    "\n",
    "    def run(self, state: State) -> None:\n",
    "        state[\"sum\"] = sum(state[\"data\"])\n",
    "\n",
    "\n",
    "class MeanCenter(FitAwareStep):\n",
    "    def __init__(self): super().__init__(requires=[\"data\"], provides=[\"data\"])\n",
    "\n",
    "    def fit_impl(self, state: State) -> None:\n",
    "        xs = state[\"data\"];\n",
    "        state[\"preproc.mean\"] = sum(xs) / len(xs)\n",
    "\n",
    "    def run(self, state: State) -> None:\n",
    "        m = state[\"preproc.mean\"]\n",
    "        state[\"data\"] = [x - m for x in state[\"data\"]]\n",
    "\n",
    "\n",
    "class Accumulate(Step):\n",
    "    def __init__(self): super().__init__(requires=[\"sum\"], provides=[\"tot\"])\n",
    "\n",
    "    def run(self, state: State) -> None:\n",
    "        state[\"tot\"] = state.get(\"tot\", 0) + state[\"sum\"]\n",
    "\n",
    "#NUOVE AGGIUNTE\n",
    "class Multiply(Step):\n",
    "    def __init__(self, factor: int):\n",
    "        super().__init__(requires=[\"data\"], provides=[\"mul\"])\n",
    "        self.factor = factor\n",
    "\n",
    "    def run(self, state: State) -> None:\n",
    "        state[\"mul\"] = [x * self.factor for x in state[\"data\"]]\n",
    "\n",
    "class StandardScaler(FitAwareStep):\n",
    "    def __init__(self):\n",
    "        super().__init__(requires=[\"data\"], provides=[\"data\"])\n",
    "        self.std = 1.0\n",
    "\n",
    "    def fit_impl(self, state: State):\n",
    "        data = state[\"data\"]\n",
    "        mean = sum(data) / len(data)\n",
    "        var = sum((x - mean) ** 2 for x in data) / len(data)\n",
    "        self.std = var**0.5 if var > 0 else 1.0\n",
    "        state[\"preproc.std\"] = self.std\n",
    "\n",
    "    def run(self, state: State):\n",
    "        state[\"data\"] = [x / self.std for x in state[\"data\"]]\n",
    "\n",
    "\n",
    "class ConditionalSum(Step):\n",
    "    def __init__(self):\n",
    "        super().__init__(requires=[\"data\"], provides=[\"c_sum\"])\n",
    "\n",
    "    def run(self, state: State):\n",
    "        data = state[\"data\"]\n",
    "        state[\"c_sum\"] = sum(data) if len(data) > 2 else None\n",
    "\n",
    "class Pitagora(Step):\n",
    "    def __init__(self):\n",
    "        super().__init__(requires=[\"data\"], provides=[\"pitagora\"])\n",
    "\n",
    "    def run(self, state: State):\n",
    "        \n",
    "        if len(state[\"data\"]) < 2:\n",
    "            state[\"pitagora\"] = None\n",
    "        else:\n",
    "            list_pitagora = []\n",
    "            for i in range(len(state[\"data\"]) - 1):\n",
    "                a = state[\"data\"][i]\n",
    "                b = state[\"data\"][i + 1]\n",
    "                list_pitagora.append(int((a**2 + b**2) ** 0.5))\n",
    "            state[\"pitagora\"] = list_pitagora     \n",
    "#FINE NUOVE AGGIUNTE\n"
   ]
  },
  {
   "cell_type": "markdown",
   "id": "212b656ebe8a6654",
   "metadata": {},
   "source": [
    "### Build a `Pipeline` with Custom `@decorator` Hooks"
   ]
  },
  {
   "cell_type": "code",
   "execution_count": 58,
   "id": "7fe3f8d5f04849fc",
   "metadata": {
    "ExecuteTime": {
     "end_time": "2025-09-03T16:15:22.336616Z",
     "start_time": "2025-09-03T16:15:22.333258Z"
    }
   },
   "outputs": [
    {
     "name": "stdout",
     "output_type": "stream",
     "text": [
      "[pipeline] start\n",
      "[pipeline] before 0: Load\n",
      "[pipeline] after 0:  Load\n",
      "[pipeline] before 1: Sum\n",
      "[pipeline] after 1:  Sum\n",
      "[pipeline] end\n",
      "{'data': [1, 2, 3], 'sum': 6}\n",
      "[pipeline_1] start\n",
      "[pipeline_1] before 0: Load\n",
      "[pipeline_1] after 0:  Load\n",
      "    stato parziale: {'data': [1, 2, 3]}\n",
      "[pipeline_1] before 1: Sum\n",
      "[pipeline_1] after 1:  Sum\n",
      "    stato parziale: {'data': [1, 2, 3], 'sum': 6}\n",
      "[pipeline_1] before 2: Accumulate\n",
      "[pipeline_1] after 2:  Accumulate\n",
      "    stato parziale: {'data': [1, 2, 3], 'sum': 6, 'tot': 6}\n",
      "[pipeline_1] before 3: Multiply\n",
      "[pipeline_1] after 3:  Multiply\n",
      "    stato parziale: {'data': [1, 2, 3], 'sum': 6, 'tot': 6, 'mul': [10, 20, 30]}\n",
      "[pipeline_1] before 4: Pitagora\n",
      "[pipeline_1] after 4:  Pitagora\n",
      "    stato parziale: {'data': [1, 2, 3], 'sum': 6, 'tot': 6, 'mul': [10, 20, 30], 'pitagora': [2, 3]}\n",
      "[pipeline_1] end\n",
      "{'data': [1, 2, 3], 'sum': 6, 'tot': 6, 'mul': [10, 20, 30], 'pitagora': [2, 3]}\n"
     ]
    }
   ],
   "source": [
    "class MyPipeline(Pipeline):\n",
    "    @hook(PipelineEvent.PIPELINE_START)\n",
    "    def _start(self, state: State) -> None:\n",
    "        print(\"[pipeline] start\")\n",
    "\n",
    "    @hook(PipelineEvent.BEFORE_STEP, priority=-1)\n",
    "    def _before(self, step: Step, state: State, *, index: int) -> None:\n",
    "        print(f\"[pipeline] before {index}: {step.name}\")\n",
    "\n",
    "    @hook(PipelineEvent.AFTER_STEP)\n",
    "    def _after(self, step: Step, state: State, *, index: int) -> None:\n",
    "        print(f\"[pipeline] after {index}:  {step.name}\")\n",
    "        \n",
    "    @hook(PipelineEvent.PIPELINE_END)\n",
    "    def _end(self, state: State) -> None:\n",
    "        print(\"[pipeline] end\")\n",
    "\n",
    "\n",
    "s = State()\n",
    "p = MyPipeline([Load(), Sum()], name=\"Plain\")\n",
    "p(s)\n",
    "print(s.to_dict())\n",
    "# [pipeline] start\n",
    "# [pipeline] before 0: Load\n",
    "# [pipeline] after 0:  Load\n",
    "# [pipeline] before 1: Sum\n",
    "# [pipeline] after 1:  Sum\n",
    "# [pipeline] end\n",
    "# {'data': [1, 2, 3], 'sum': 6}\n",
    "\n",
    "#NUOVE AGGIUNTE\n",
    "class MyPipeline2(Pipeline):\n",
    "    @hook(PipelineEvent.PIPELINE_START)\n",
    "    def _start(self, state: State) -> None:\n",
    "        print(\"[pipeline_1] start\")\n",
    "\n",
    "    @hook(PipelineEvent.BEFORE_STEP, priority=-1)\n",
    "    def _before(self, step: Step, state: State, *, index: int) -> None:\n",
    "        print(f\"[pipeline_1] before {index}: {step.name}\")\n",
    "\n",
    "    @hook(PipelineEvent.AFTER_STEP)\n",
    "    def _after(self, step: Step, state: State, *, index: int) -> None:\n",
    "        print(f\"[pipeline_1] after {index}:  {step.name}\")\n",
    "        print(f\"    stato parziale: {state.to_dict()}\")\n",
    "        \n",
    "    @hook(PipelineEvent.PIPELINE_END)\n",
    "    def _end(self, state: State) -> None:\n",
    "        print(\"[pipeline_1] end\")\n",
    "        \n",
    "s1 = State()\n",
    "p1 = MyPipeline2([Load(), Sum(), Accumulate(), Multiply(factor=10), Pitagora()], name=\"MP2\")\n",
    "p1(s1)\n",
    "print(s1.to_dict())"
   ]
  },
  {
   "cell_type": "markdown",
   "id": "54ea4eb9854e4692",
   "metadata": {},
   "source": [
    "### Build a `FitAwarePipeline` that fits all `FitAwareSteps` prior to execution"
   ]
  },
  {
   "cell_type": "code",
   "execution_count": null,
   "id": "306540356cd87a5c",
   "metadata": {
    "ExecuteTime": {
     "end_time": "2025-09-03T16:15:22.350008Z",
     "start_time": "2025-09-03T16:15:22.347008Z"
    }
   },
   "outputs": [],
   "source": [
    "s = State({\"data\": [1.0, 2.0, 3.0]})\n",
    "fp = FitAwarePipeline([MeanCenter(), Sum()], name=\"FitPipe\", refit=False)\n",
    "fp(s)\n",
    "print(s.to_dict())\n",
    "# {'data': [-1.0, 0.0, 1.0], 'preproc.mean': 2.0, 'sum': 0.0}\n",
    "\n",
    "# secondo run senza refit (usa ancora mean=2.0)\n",
    "s[\"data\"] = [2.0, 4.0, 6.0]\n",
    "fp(s)\n",
    "print(s.to_dict())\n",
    "# {'data': [0.0, 2.0, 4.0], 'preproc.mean': 2.0, 'sum': 6.0}\n",
    "\n",
    "# pipeline con refit=True\n",
    "s2 = State({\"data\": [2.0, 4.0, 6.0]})\n",
    "fp_refit = FitAwarePipeline([MeanCenter(), Sum()], name=\"FitPipeRefit\", refit=True)\n",
    "fp_refit(s2)\n",
    "print(s2.to_dict())\n",
    "# {'data': [-2.0, 0.0, 2.0], 'preproc.mean': 4.0, 'sum': 0.0}\n",
    "\n",
    "\n",
    "\n",
    "#NUOVA AGGIUNTA\n",
    "s1 = State({\"data\": [3.0, 4.0, 5.0]})\n",
    "fp = FitAwarePipeline([MeanCenter(), StandardScaler(), Sum()], name=\"FittedPipe\", refit=True)\n",
    "fp(s1)\n",
    "print(s1.to_dict())\n",
    "# somma = 3+4+5 = 12; len = 3; ==> mean = 4.0;\n",
    "# std = sqrt(((3-4)^2 + (4-4)^2 + (5-4)^2)/3) = sqrt((1+0+1)/3) = sqrt(2/3) = 0.816496580927726\n",
    "# data normalizzato = [ (3-4)/std, (4-4)/std, (5-4)/std ] = [-1.224744871391589, 0.0, 1.224744871391589]\n",
    "# preproc.std = 0.816496580927726 \n",
    "# {'data': [-1.224744871391589, 0.0, 1.224744871391589], 'preproc.mean': 4.0, 'preproc.std':0.816  'sum': 0.0}\n",
    "\n",
    "\n",
    "#Altra nuova aggiunta\n",
    "s1[\"data\"] = [10.0, 24.0]\n",
    "fp = FitAwarePipeline([MeanCenter(), ConditionalSum(), Sum(), Multiply(factor=10)], name=\"FitPipeCond\", refit=True)\n",
    "fp(s1)\n",
    "print(s1.to_dict())\n",
    "# somma = 10+24 = 34; len = 2; ==> mean = 17.0;\n",
    "# {'data': [-7.0, 7.0], 'preproc.mean': 17.0, 'c_sum':NONE, 'sum': 0.0, 'mul'= [-70.0, 70.0]}\n",
    "\n"
   ]
  },
  {
   "cell_type": "markdown",
   "id": "66bead3f4af1543d",
   "metadata": {},
   "source": [
    "### Repeat the Pipeline `count` times"
   ]
  },
  {
   "cell_type": "code",
   "execution_count": null,
   "id": "288cec62360093ef",
   "metadata": {
    "ExecuteTime": {
     "end_time": "2025-09-03T16:15:22.370892Z",
     "start_time": "2025-09-03T16:15:22.368590Z"
    }
   },
   "outputs": [],
   "source": [
    "p = Pipeline([Load(), Sum(), Accumulate()])\n",
    "rp = Repeat(p, count=3)\n",
    "s = State()\n",
    "rp(s)\n",
    "print(s.to_dict())\n",
    "# 1° iter: data=[1,2,3], sum=6, tot=6\n",
    "# 2° iter: data=[1,2,3], sum=6, tot=12\n",
    "# 3° iter: data=[1,2,3], sum=6, tot=18\n",
    "# {'data': [1, 2, 3], 'sum': 6, 'tot': 18}"
   ]
  }
 ],
 "metadata": {
  "kernelspec": {
   "display_name": ".venv",
   "language": "python",
   "name": "python3"
  },
  "language_info": {
   "codemirror_mode": {
    "name": "ipython",
    "version": 3
   },
   "file_extension": ".py",
   "mimetype": "text/x-python",
   "name": "python",
   "nbconvert_exporter": "python",
   "pygments_lexer": "ipython3",
   "version": "3.11.9"
  }
 },
 "nbformat": 4,
 "nbformat_minor": 5
}
